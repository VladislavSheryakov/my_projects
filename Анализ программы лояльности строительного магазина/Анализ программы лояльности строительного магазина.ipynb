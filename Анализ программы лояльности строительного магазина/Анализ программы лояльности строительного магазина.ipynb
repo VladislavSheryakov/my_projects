{
 "cells": [
  {
   "cell_type": "markdown",
   "metadata": {},
   "source": [
    "## Материалы\n",
    "\n",
    "---\n",
    "**Презентация** (https://yadi.sk/i/ZRyD6BU5cT0j7g)"
   ]
  },
  {
   "cell_type": "markdown",
   "metadata": {},
   "source": [
    "# Анализ программы лояльности магазина строительных материалов "
   ]
  },
  {
   "cell_type": "markdown",
   "metadata": {},
   "source": [
    "### Шаг №1. Открыть файл с данными и изучить общую информацию<a id=\"step1\"></a>\n",
    "\n",
    "---\n",
    "Проведем импорт необходимых библиотек:"
   ]
  },
  {
   "cell_type": "code",
   "execution_count": 1,
   "metadata": {},
   "outputs": [],
   "source": [
    "import pandas as pd\n",
    "import matplotlib.pyplot as plt\n",
    "import numpy as np\n",
    "import scipy.stats as stats\n",
    "from scipy import stats as st\n",
    "import seaborn as sns\n",
    "import matplotlib.ticker as plticker\n",
    "import warnings\n",
    "warnings.filterwarnings(\"ignore\")\n",
    "import plotly.express as px\n",
    "from plotly import graph_objects as go\n",
    "import datetime as dt\n",
    "from datetime import datetime\n",
    "import math\n",
    "import urllib.request"
   ]
  },
  {
   "cell_type": "markdown",
   "metadata": {},
   "source": [
    "Загрузим данные и сохраним их в переменные retail и product_codes соответственно. Создадим функцию df_info для просмотра основной информации по датафреймам и применим ее для наших датасетов."
   ]
  },
  {
   "cell_type": "code",
   "execution_count": 3,
   "metadata": {},
   "outputs": [],
   "source": [
    "def df_info(df):\n",
    "    \"\"\"вывод основной информации по датафрейму\"\"\"\n",
    "    df.info()\n",
    "    display(df.describe())\n",
    "    display(df)"
   ]
  },
  {
   "cell_type": "markdown",
   "metadata": {},
   "source": [
    "**Таблица retail**"
   ]
  },
  {
   "cell_type": "code",
   "execution_count": 4,
   "metadata": {},
   "outputs": [
    {
     "name": "stdout",
     "output_type": "stream",
     "text": [
      "<class 'pandas.core.frame.DataFrame'>\n",
      "RangeIndex: 105335 entries, 0 to 105334\n",
      "Data columns (total 7 columns):\n",
      "purchaseid         105335 non-null object\n",
      "item_ID            105335 non-null object\n",
      "Quantity           105335 non-null int64\n",
      "purchasedate       105335 non-null object\n",
      "CustomerID         69125 non-null float64\n",
      "ShopID             105335 non-null object\n",
      "loyalty_program    105335 non-null float64\n",
      "dtypes: float64(2), int64(1), object(4)\n",
      "memory usage: 5.6+ MB\n"
     ]
    },
    {
     "data": {
      "text/html": [
       "<div>\n",
       "<style scoped>\n",
       "    .dataframe tbody tr th:only-of-type {\n",
       "        vertical-align: middle;\n",
       "    }\n",
       "\n",
       "    .dataframe tbody tr th {\n",
       "        vertical-align: top;\n",
       "    }\n",
       "\n",
       "    .dataframe thead th {\n",
       "        text-align: right;\n",
       "    }\n",
       "</style>\n",
       "<table border=\"1\" class=\"dataframe\">\n",
       "  <thead>\n",
       "    <tr style=\"text-align: right;\">\n",
       "      <th></th>\n",
       "      <th>Quantity</th>\n",
       "      <th>CustomerID</th>\n",
       "      <th>loyalty_program</th>\n",
       "    </tr>\n",
       "  </thead>\n",
       "  <tbody>\n",
       "    <tr>\n",
       "      <td>count</td>\n",
       "      <td>105335.000000</td>\n",
       "      <td>69125.000000</td>\n",
       "      <td>105335.000000</td>\n",
       "    </tr>\n",
       "    <tr>\n",
       "      <td>mean</td>\n",
       "      <td>7.821218</td>\n",
       "      <td>21019.302047</td>\n",
       "      <td>0.226345</td>\n",
       "    </tr>\n",
       "    <tr>\n",
       "      <td>std</td>\n",
       "      <td>327.946695</td>\n",
       "      <td>1765.444679</td>\n",
       "      <td>0.418467</td>\n",
       "    </tr>\n",
       "    <tr>\n",
       "      <td>min</td>\n",
       "      <td>-74216.000000</td>\n",
       "      <td>18025.000000</td>\n",
       "      <td>0.000000</td>\n",
       "    </tr>\n",
       "    <tr>\n",
       "      <td>25%</td>\n",
       "      <td>0.000000</td>\n",
       "      <td>19544.000000</td>\n",
       "      <td>0.000000</td>\n",
       "    </tr>\n",
       "    <tr>\n",
       "      <td>50%</td>\n",
       "      <td>2.000000</td>\n",
       "      <td>20990.000000</td>\n",
       "      <td>0.000000</td>\n",
       "    </tr>\n",
       "    <tr>\n",
       "      <td>75%</td>\n",
       "      <td>7.000000</td>\n",
       "      <td>22659.000000</td>\n",
       "      <td>0.000000</td>\n",
       "    </tr>\n",
       "    <tr>\n",
       "      <td>max</td>\n",
       "      <td>74214.000000</td>\n",
       "      <td>23962.000000</td>\n",
       "      <td>1.000000</td>\n",
       "    </tr>\n",
       "  </tbody>\n",
       "</table>\n",
       "</div>"
      ],
      "text/plain": [
       "            Quantity    CustomerID  loyalty_program\n",
       "count  105335.000000  69125.000000    105335.000000\n",
       "mean        7.821218  21019.302047         0.226345\n",
       "std       327.946695   1765.444679         0.418467\n",
       "min    -74216.000000  18025.000000         0.000000\n",
       "25%         0.000000  19544.000000         0.000000\n",
       "50%         2.000000  20990.000000         0.000000\n",
       "75%         7.000000  22659.000000         0.000000\n",
       "max     74214.000000  23962.000000         1.000000"
      ]
     },
     "metadata": {},
     "output_type": "display_data"
    },
    {
     "data": {
      "text/html": [
       "<div>\n",
       "<style scoped>\n",
       "    .dataframe tbody tr th:only-of-type {\n",
       "        vertical-align: middle;\n",
       "    }\n",
       "\n",
       "    .dataframe tbody tr th {\n",
       "        vertical-align: top;\n",
       "    }\n",
       "\n",
       "    .dataframe thead th {\n",
       "        text-align: right;\n",
       "    }\n",
       "</style>\n",
       "<table border=\"1\" class=\"dataframe\">\n",
       "  <thead>\n",
       "    <tr style=\"text-align: right;\">\n",
       "      <th></th>\n",
       "      <th>purchaseid</th>\n",
       "      <th>item_ID</th>\n",
       "      <th>Quantity</th>\n",
       "      <th>purchasedate</th>\n",
       "      <th>CustomerID</th>\n",
       "      <th>ShopID</th>\n",
       "      <th>loyalty_program</th>\n",
       "    </tr>\n",
       "  </thead>\n",
       "  <tbody>\n",
       "    <tr>\n",
       "      <td>0</td>\n",
       "      <td>538280</td>\n",
       "      <td>21873</td>\n",
       "      <td>11</td>\n",
       "      <td>2016-12-10 12:50:00</td>\n",
       "      <td>18427.0</td>\n",
       "      <td>Shop 0</td>\n",
       "      <td>0.0</td>\n",
       "    </tr>\n",
       "    <tr>\n",
       "      <td>1</td>\n",
       "      <td>538862</td>\n",
       "      <td>22195</td>\n",
       "      <td>0</td>\n",
       "      <td>2016-12-14 14:11:00</td>\n",
       "      <td>22389.0</td>\n",
       "      <td>Shop 0</td>\n",
       "      <td>1.0</td>\n",
       "    </tr>\n",
       "    <tr>\n",
       "      <td>2</td>\n",
       "      <td>538855</td>\n",
       "      <td>21239</td>\n",
       "      <td>7</td>\n",
       "      <td>2016-12-14 13:50:00</td>\n",
       "      <td>22182.0</td>\n",
       "      <td>Shop 0</td>\n",
       "      <td>1.0</td>\n",
       "    </tr>\n",
       "    <tr>\n",
       "      <td>3</td>\n",
       "      <td>543543</td>\n",
       "      <td>22271</td>\n",
       "      <td>0</td>\n",
       "      <td>2017-02-09 15:33:00</td>\n",
       "      <td>23522.0</td>\n",
       "      <td>Shop 0</td>\n",
       "      <td>1.0</td>\n",
       "    </tr>\n",
       "    <tr>\n",
       "      <td>4</td>\n",
       "      <td>543812</td>\n",
       "      <td>79321</td>\n",
       "      <td>0</td>\n",
       "      <td>2017-02-13 14:40:00</td>\n",
       "      <td>23151.0</td>\n",
       "      <td>Shop 0</td>\n",
       "      <td>1.0</td>\n",
       "    </tr>\n",
       "    <tr>\n",
       "      <td>...</td>\n",
       "      <td>...</td>\n",
       "      <td>...</td>\n",
       "      <td>...</td>\n",
       "      <td>...</td>\n",
       "      <td>...</td>\n",
       "      <td>...</td>\n",
       "      <td>...</td>\n",
       "    </tr>\n",
       "    <tr>\n",
       "      <td>105330</td>\n",
       "      <td>538566</td>\n",
       "      <td>21826</td>\n",
       "      <td>1</td>\n",
       "      <td>2016-12-13 11:21:00</td>\n",
       "      <td>NaN</td>\n",
       "      <td>Shop 0</td>\n",
       "      <td>0.0</td>\n",
       "    </tr>\n",
       "    <tr>\n",
       "      <td>105331</td>\n",
       "      <td>540247</td>\n",
       "      <td>21742</td>\n",
       "      <td>0</td>\n",
       "      <td>2017-01-05 15:56:00</td>\n",
       "      <td>21143.0</td>\n",
       "      <td>Shop 0</td>\n",
       "      <td>0.0</td>\n",
       "    </tr>\n",
       "    <tr>\n",
       "      <td>105332</td>\n",
       "      <td>538068</td>\n",
       "      <td>85048</td>\n",
       "      <td>1</td>\n",
       "      <td>2016-12-09 14:05:00</td>\n",
       "      <td>23657.0</td>\n",
       "      <td>Shop 0</td>\n",
       "      <td>1.0</td>\n",
       "    </tr>\n",
       "    <tr>\n",
       "      <td>105333</td>\n",
       "      <td>538207</td>\n",
       "      <td>22818</td>\n",
       "      <td>11</td>\n",
       "      <td>2016-12-10 11:33:00</td>\n",
       "      <td>18427.0</td>\n",
       "      <td>Shop 0</td>\n",
       "      <td>0.0</td>\n",
       "    </tr>\n",
       "    <tr>\n",
       "      <td>105334</td>\n",
       "      <td>543977</td>\n",
       "      <td>22384</td>\n",
       "      <td>9</td>\n",
       "      <td>2017-02-14 15:35:00</td>\n",
       "      <td>21294.0</td>\n",
       "      <td>Shop 0</td>\n",
       "      <td>0.0</td>\n",
       "    </tr>\n",
       "  </tbody>\n",
       "</table>\n",
       "<p>105335 rows × 7 columns</p>\n",
       "</div>"
      ],
      "text/plain": [
       "       purchaseid item_ID  Quantity         purchasedate  CustomerID  ShopID  \\\n",
       "0          538280   21873        11  2016-12-10 12:50:00     18427.0  Shop 0   \n",
       "1          538862   22195         0  2016-12-14 14:11:00     22389.0  Shop 0   \n",
       "2          538855   21239         7  2016-12-14 13:50:00     22182.0  Shop 0   \n",
       "3          543543   22271         0  2017-02-09 15:33:00     23522.0  Shop 0   \n",
       "4          543812   79321         0  2017-02-13 14:40:00     23151.0  Shop 0   \n",
       "...           ...     ...       ...                  ...         ...     ...   \n",
       "105330     538566   21826         1  2016-12-13 11:21:00         NaN  Shop 0   \n",
       "105331     540247   21742         0  2017-01-05 15:56:00     21143.0  Shop 0   \n",
       "105332     538068   85048         1  2016-12-09 14:05:00     23657.0  Shop 0   \n",
       "105333     538207   22818        11  2016-12-10 11:33:00     18427.0  Shop 0   \n",
       "105334     543977   22384         9  2017-02-14 15:35:00     21294.0  Shop 0   \n",
       "\n",
       "        loyalty_program  \n",
       "0                   0.0  \n",
       "1                   1.0  \n",
       "2                   1.0  \n",
       "3                   1.0  \n",
       "4                   1.0  \n",
       "...                 ...  \n",
       "105330              0.0  \n",
       "105331              0.0  \n",
       "105332              1.0  \n",
       "105333              0.0  \n",
       "105334              0.0  \n",
       "\n",
       "[105335 rows x 7 columns]"
      ]
     },
     "metadata": {},
     "output_type": "display_data"
    },
    {
     "data": {
      "text/plain": [
       "None"
      ]
     },
     "metadata": {},
     "output_type": "display_data"
    }
   ],
   "source": [
    "display(df_info(retail))"
   ]
  },
  {
   "cell_type": "markdown",
   "metadata": {},
   "source": [
    "В таблице 7 столбцов и порядка 105 тысяч строк. Что можно сказать на первый взгляд:\n",
    "1. Сразу видим что названия столбцов не приведены к нижнему регистру и вообще записаны не в одном стиле - требуется преобразование. \n",
    "2. Посмотрим на типы данных в столбцах: столбцы с идентификатороми покупки и пользователя имеют тип object, хотя в таблице значения этих столбцов - числа (на первый взгляд) - нужно будет изучить так ли это; дата покупки также имеет тип object хотя должен быть временной, CustomerID имеет тип флоат, хотя числа целые; loyalty_program - также имеет тип флоат, хотя значения всего два (1 - есть в программе, 0 - нет). Одним словом тип данных также нужно изменить на этапе предобработки. \n",
    "3. В столбце CustomerID есть пропуски (порядка 35 тысяч пропущенных значений) - нужно разобраться почему и заполнить пропуски.\n",
    "4. В столбце quantity видим что есть отрицательные значения - посмотрим сколько их и разберемся с ними."
   ]
  },
  {
   "cell_type": "code",
   "execution_count": 5,
   "metadata": {},
   "outputs": [
    {
     "data": {
      "text/html": [
       "<div>\n",
       "<style scoped>\n",
       "    .dataframe tbody tr th:only-of-type {\n",
       "        vertical-align: middle;\n",
       "    }\n",
       "\n",
       "    .dataframe tbody tr th {\n",
       "        vertical-align: top;\n",
       "    }\n",
       "\n",
       "    .dataframe thead th {\n",
       "        text-align: right;\n",
       "    }\n",
       "</style>\n",
       "<table border=\"1\" class=\"dataframe\">\n",
       "  <thead>\n",
       "    <tr style=\"text-align: right;\">\n",
       "      <th></th>\n",
       "      <th>purchaseid</th>\n",
       "      <th>item_ID</th>\n",
       "      <th>Quantity</th>\n",
       "      <th>purchasedate</th>\n",
       "      <th>CustomerID</th>\n",
       "      <th>ShopID</th>\n",
       "      <th>loyalty_program</th>\n",
       "    </tr>\n",
       "  </thead>\n",
       "  <tbody>\n",
       "    <tr>\n",
       "      <td>64</td>\n",
       "      <td>C539944</td>\n",
       "      <td>22776</td>\n",
       "      <td>-2</td>\n",
       "      <td>2016-12-23 11:38:00</td>\n",
       "      <td>20239.0</td>\n",
       "      <td>Shop 0</td>\n",
       "      <td>0.0</td>\n",
       "    </tr>\n",
       "    <tr>\n",
       "      <td>109</td>\n",
       "      <td>C542910</td>\n",
       "      <td>20726</td>\n",
       "      <td>-2</td>\n",
       "      <td>2017-02-01 15:38:00</td>\n",
       "      <td>23190.0</td>\n",
       "      <td>Shop 0</td>\n",
       "      <td>1.0</td>\n",
       "    </tr>\n",
       "    <tr>\n",
       "      <td>112</td>\n",
       "      <td>C542426</td>\n",
       "      <td>22418</td>\n",
       "      <td>-25</td>\n",
       "      <td>2017-01-28 09:32:00</td>\n",
       "      <td>19825.0</td>\n",
       "      <td>Shop 0</td>\n",
       "      <td>0.0</td>\n",
       "    </tr>\n",
       "    <tr>\n",
       "      <td>253</td>\n",
       "      <td>C539726</td>\n",
       "      <td>22791</td>\n",
       "      <td>-11</td>\n",
       "      <td>2016-12-21 14:24:00</td>\n",
       "      <td>22686.0</td>\n",
       "      <td>Shop 0</td>\n",
       "      <td>1.0</td>\n",
       "    </tr>\n",
       "    <tr>\n",
       "      <td>344</td>\n",
       "      <td>C544034</td>\n",
       "      <td>21878</td>\n",
       "      <td>-2</td>\n",
       "      <td>2017-02-15 11:28:00</td>\n",
       "      <td>20380.0</td>\n",
       "      <td>Shop 0</td>\n",
       "      <td>0.0</td>\n",
       "    </tr>\n",
       "  </tbody>\n",
       "</table>\n",
       "</div>"
      ],
      "text/plain": [
       "    purchaseid item_ID  Quantity         purchasedate  CustomerID  ShopID  \\\n",
       "64     C539944   22776        -2  2016-12-23 11:38:00     20239.0  Shop 0   \n",
       "109    C542910   20726        -2  2017-02-01 15:38:00     23190.0  Shop 0   \n",
       "112    C542426   22418       -25  2017-01-28 09:32:00     19825.0  Shop 0   \n",
       "253    C539726   22791       -11  2016-12-21 14:24:00     22686.0  Shop 0   \n",
       "344    C544034   21878        -2  2017-02-15 11:28:00     20380.0  Shop 0   \n",
       "\n",
       "     loyalty_program  \n",
       "64               0.0  \n",
       "109              1.0  \n",
       "112              0.0  \n",
       "253              1.0  \n",
       "344              0.0  "
      ]
     },
     "metadata": {},
     "output_type": "display_data"
    }
   ],
   "source": [
    "display(retail.query('Quantity < 0').head(5))"
   ]
  },
  {
   "cell_type": "markdown",
   "metadata": {},
   "source": [
    "**Таблица product_codes**"
   ]
  },
  {
   "cell_type": "code",
   "execution_count": 6,
   "metadata": {},
   "outputs": [
    {
     "name": "stdout",
     "output_type": "stream",
     "text": [
      "<class 'pandas.core.frame.DataFrame'>\n",
      "RangeIndex: 9969 entries, 0 to 9968\n",
      "Data columns (total 2 columns):\n",
      "productID        9969 non-null object\n",
      "price_per_one    9969 non-null float64\n",
      "dtypes: float64(1), object(1)\n",
      "memory usage: 155.9+ KB\n"
     ]
    },
    {
     "data": {
      "text/html": [
       "<div>\n",
       "<style scoped>\n",
       "    .dataframe tbody tr th:only-of-type {\n",
       "        vertical-align: middle;\n",
       "    }\n",
       "\n",
       "    .dataframe tbody tr th {\n",
       "        vertical-align: top;\n",
       "    }\n",
       "\n",
       "    .dataframe thead th {\n",
       "        text-align: right;\n",
       "    }\n",
       "</style>\n",
       "<table border=\"1\" class=\"dataframe\">\n",
       "  <thead>\n",
       "    <tr style=\"text-align: right;\">\n",
       "      <th></th>\n",
       "      <th>price_per_one</th>\n",
       "    </tr>\n",
       "  </thead>\n",
       "  <tbody>\n",
       "    <tr>\n",
       "      <td>count</td>\n",
       "      <td>9969.000000</td>\n",
       "    </tr>\n",
       "    <tr>\n",
       "      <td>mean</td>\n",
       "      <td>19.503697</td>\n",
       "    </tr>\n",
       "    <tr>\n",
       "      <td>std</td>\n",
       "      <td>330.880754</td>\n",
       "    </tr>\n",
       "    <tr>\n",
       "      <td>min</td>\n",
       "      <td>0.000000</td>\n",
       "    </tr>\n",
       "    <tr>\n",
       "      <td>25%</td>\n",
       "      <td>1.250000</td>\n",
       "    </tr>\n",
       "    <tr>\n",
       "      <td>50%</td>\n",
       "      <td>2.550000</td>\n",
       "    </tr>\n",
       "    <tr>\n",
       "      <td>75%</td>\n",
       "      <td>5.510000</td>\n",
       "    </tr>\n",
       "    <tr>\n",
       "      <td>max</td>\n",
       "      <td>16888.020000</td>\n",
       "    </tr>\n",
       "  </tbody>\n",
       "</table>\n",
       "</div>"
      ],
      "text/plain": [
       "       price_per_one\n",
       "count    9969.000000\n",
       "mean       19.503697\n",
       "std       330.880754\n",
       "min         0.000000\n",
       "25%         1.250000\n",
       "50%         2.550000\n",
       "75%         5.510000\n",
       "max     16888.020000"
      ]
     },
     "metadata": {},
     "output_type": "display_data"
    },
    {
     "data": {
      "text/html": [
       "<div>\n",
       "<style scoped>\n",
       "    .dataframe tbody tr th:only-of-type {\n",
       "        vertical-align: middle;\n",
       "    }\n",
       "\n",
       "    .dataframe tbody tr th {\n",
       "        vertical-align: top;\n",
       "    }\n",
       "\n",
       "    .dataframe thead th {\n",
       "        text-align: right;\n",
       "    }\n",
       "</style>\n",
       "<table border=\"1\" class=\"dataframe\">\n",
       "  <thead>\n",
       "    <tr style=\"text-align: right;\">\n",
       "      <th></th>\n",
       "      <th>productID</th>\n",
       "      <th>price_per_one</th>\n",
       "    </tr>\n",
       "  </thead>\n",
       "  <tbody>\n",
       "    <tr>\n",
       "      <td>0</td>\n",
       "      <td>85123A</td>\n",
       "      <td>2.55</td>\n",
       "    </tr>\n",
       "    <tr>\n",
       "      <td>1</td>\n",
       "      <td>71053</td>\n",
       "      <td>3.39</td>\n",
       "    </tr>\n",
       "    <tr>\n",
       "      <td>2</td>\n",
       "      <td>84406B</td>\n",
       "      <td>2.75</td>\n",
       "    </tr>\n",
       "    <tr>\n",
       "      <td>3</td>\n",
       "      <td>84029G</td>\n",
       "      <td>3.39</td>\n",
       "    </tr>\n",
       "    <tr>\n",
       "      <td>4</td>\n",
       "      <td>84029E</td>\n",
       "      <td>3.39</td>\n",
       "    </tr>\n",
       "    <tr>\n",
       "      <td>...</td>\n",
       "      <td>...</td>\n",
       "      <td>...</td>\n",
       "    </tr>\n",
       "    <tr>\n",
       "      <td>9964</td>\n",
       "      <td>84306</td>\n",
       "      <td>8.29</td>\n",
       "    </tr>\n",
       "    <tr>\n",
       "      <td>9965</td>\n",
       "      <td>90001A</td>\n",
       "      <td>4.15</td>\n",
       "    </tr>\n",
       "    <tr>\n",
       "      <td>9966</td>\n",
       "      <td>90118</td>\n",
       "      <td>2.46</td>\n",
       "    </tr>\n",
       "    <tr>\n",
       "      <td>9967</td>\n",
       "      <td>DOT</td>\n",
       "      <td>172.62</td>\n",
       "    </tr>\n",
       "    <tr>\n",
       "      <td>9968</td>\n",
       "      <td>20738</td>\n",
       "      <td>0.00</td>\n",
       "    </tr>\n",
       "  </tbody>\n",
       "</table>\n",
       "<p>9969 rows × 2 columns</p>\n",
       "</div>"
      ],
      "text/plain": [
       "     productID  price_per_one\n",
       "0       85123A           2.55\n",
       "1        71053           3.39\n",
       "2       84406B           2.75\n",
       "3       84029G           3.39\n",
       "4       84029E           3.39\n",
       "...        ...            ...\n",
       "9964     84306           8.29\n",
       "9965    90001A           4.15\n",
       "9966     90118           2.46\n",
       "9967       DOT         172.62\n",
       "9968     20738           0.00\n",
       "\n",
       "[9969 rows x 2 columns]"
      ]
     },
     "metadata": {},
     "output_type": "display_data"
    },
    {
     "data": {
      "text/plain": [
       "None"
      ]
     },
     "metadata": {},
     "output_type": "display_data"
    }
   ],
   "source": [
    "display(df_info(product_codes))"
   ]
  },
  {
   "cell_type": "markdown",
   "metadata": {},
   "source": [
    "В таблице около 10 тысяч строк и 2 столбца: идентификатор продукта и стоимость единицы товара. Идентификатор продукта есть и в таблице retail и мы видим по значениям столбца что ID имеет не только цифровую запись, в нем есть также и буквы. Значит в таблице retail тип данных object для столбца ID товара верный. Для этой таблицы нужео будет:\n",
    "1. изменить названия столбцов и привести к нижнему регистру\n",
    "2. типы данных верные: object для идентификатора и float64 для цены\n",
    "3. пропущенных значений нет, хотя видим что есть нулевые ценники. Возможно товар шел в подарок или нулевая цена была в рамках промоакции.\n",
    "4. нужно будет проверить столбец с ID на дубликаты, так как ценник на один и тот же товар может быть разным (например, в рамках той же промоакции он мог идти по нулевой цене, а его реальная стоимость другая. В результате этого у нас будет 2 разных цены на один ID)"
   ]
  },
  {
   "cell_type": "markdown",
   "metadata": {},
   "source": [
    "### Шаг №2. Предобработка данных<a id=\"step2\"></a>\n",
    "\n",
    "---\n",
    "**Заменить названия столбцов и привести к нижнему регистру**<a id=\"step3\"></a>\n",
    "\n",
    "---\n",
    "Приведем названия столбцов к нижнему регистру и переименуем названия столбцов в удобные. Можно было использовать конструкцию retail.columns = [x.lower() for x in retail.columns], но поскольку мы все равно собираемся переименовать столбцы, то просто поменяем названия без использования этой функции."
   ]
  },
  {
   "cell_type": "code",
   "execution_count": 7,
   "metadata": {},
   "outputs": [],
   "source": [
    "retail.columns = ['purchase_id', 'item_id', 'quantity', 'purchase_date', 'customer_id', 'shop_id', 'loyalty_program']\n",
    "product_codes.columns = ['item_id', 'price_per_one']"
   ]
  },
  {
   "cell_type": "markdown",
   "metadata": {},
   "source": [
    "Таким образом, теперь названия столбцов записаны в нижнем регистре, более удобные для восприятия и столбец ИД товара одинаково называется в обеих таблицах. Переходим к следующему пункту."
   ]
  },
  {
   "cell_type": "markdown",
   "metadata": {},
   "source": [
    "**Преобразовать данные в нужные типы. Описать, в каких столбцах заменили тип данных и почему**<a id=\"step4\"></a>\n",
    "\n",
    "---\n",
    "В таблице product_codes типы данных верны, поэтому преобразования требуются только для таблицы retail. Взглянем на нее более детально.\n",
    "\n",
    "1. item_id, quantity, shop_id - типы данных верные.\n",
    "2. Столбец **purchase_id**: взглянув на уникальные значения столбца видим что есть и буквы в строках, т.е. тип данных object верный.\n",
    "3. Столбец **purchase_date**: преобразуем во временной тип с помощью pd.to_datetime().\n",
    "4. Столбец **customer_id**: преобразуем тип данных float64 в int. Сделаем это после обработки пропущенных значений.\n",
    "5. Столбец **loyalty_program**: преобразуем тип данных float64 в int."
   ]
  },
  {
   "cell_type": "code",
   "execution_count": 8,
   "metadata": {},
   "outputs": [],
   "source": [
    "retail['purchase_date'] = pd.to_datetime(retail['purchase_date'])\n",
    "retail['loyalty_program'] = retail['loyalty_program'].astype('int64')"
   ]
  },
  {
   "cell_type": "code",
   "execution_count": 9,
   "metadata": {},
   "outputs": [
    {
     "name": "stdout",
     "output_type": "stream",
     "text": [
      "<class 'pandas.core.frame.DataFrame'>\n",
      "RangeIndex: 105335 entries, 0 to 105334\n",
      "Data columns (total 7 columns):\n",
      "purchase_id        105335 non-null object\n",
      "item_id            105335 non-null object\n",
      "quantity           105335 non-null int64\n",
      "purchase_date      105335 non-null datetime64[ns]\n",
      "customer_id        69125 non-null float64\n",
      "shop_id            105335 non-null object\n",
      "loyalty_program    105335 non-null int64\n",
      "dtypes: datetime64[ns](1), float64(1), int64(2), object(3)\n",
      "memory usage: 5.6+ MB\n"
     ]
    },
    {
     "data": {
      "text/plain": [
       "None"
      ]
     },
     "metadata": {},
     "output_type": "display_data"
    }
   ],
   "source": [
    "display(retail.info())"
   ]
  },
  {
   "cell_type": "markdown",
   "metadata": {},
   "source": [
    "Теперь типы данных верны (кроме customer_id, который мы преобразуем после обработки пропусков). К пропускам теперь и переходим."
   ]
  },
  {
   "cell_type": "markdown",
   "metadata": {},
   "source": [
    "**Обработать пропуски при необходимости (объяснить, почему заполнили пропуски определённым образом или почему не стали это делать, описать причины, которые могли привести к пропускам)**<a id=\"step5\"></a>\n",
    "\n",
    "---\n",
    "Пропуски, как мы определили, есть только в столбце **customer_id** таблицы retail. Посчитаем сколько их методом isnull() вместе с sum(). "
   ]
  },
  {
   "cell_type": "code",
   "execution_count": 10,
   "metadata": {},
   "outputs": [
    {
     "data": {
      "text/plain": [
       "36210"
      ]
     },
     "metadata": {},
     "output_type": "display_data"
    }
   ],
   "source": [
    "display(retail['customer_id'].isnull().sum())"
   ]
  },
  {
   "cell_type": "markdown",
   "metadata": {},
   "source": [
    "36120  пропусков - очень много для того чтобы просто удалить. Подумаем логически, один номер чека - один покупатель. Поскольку в номерах чеков пропусков нет, то заменим пропущенные значения столбца customer_id значениями столбца purchase_id. Мы не сможем отследить кто из покупателей (без ИД) имеет несколько чеков, но при этом сохраним большую часть данных для анализа."
   ]
  },
  {
   "cell_type": "code",
   "execution_count": 11,
   "metadata": {},
   "outputs": [
    {
     "data": {
      "text/plain": [
       "0"
      ]
     },
     "metadata": {},
     "output_type": "display_data"
    }
   ],
   "source": [
    "retail['customer_id'] = retail['customer_id'].fillna(retail['purchase_id'])\n",
    "display(retail['customer_id'].isnull().sum())"
   ]
  },
  {
   "cell_type": "markdown",
   "metadata": {},
   "source": [
    "Пропусков больше нет, все данные сохранили, но теперь и менять тип данных столбца customer_id нет смысла: во-первых там теперь есть буквы в идентификаторах, а во-вторых он сам поменялся с флоат на object. Теперь самое время проверить данные на дубликаты."
   ]
  },
  {
   "cell_type": "markdown",
   "metadata": {},
   "source": [
    "**Проверить данные на наличие дубликатов**<a id=\"step6\"></a>\n",
    "\n",
    "---\n",
    "Сначала проверим сами датасеты на наличие полных строк-дубликатов методом duplicated().sum()."
   ]
  },
  {
   "cell_type": "code",
   "execution_count": 12,
   "metadata": {},
   "outputs": [
    {
     "data": {
      "text/plain": [
       "1033"
      ]
     },
     "metadata": {},
     "output_type": "display_data"
    },
    {
     "data": {
      "text/plain": [
       "0"
      ]
     },
     "metadata": {},
     "output_type": "display_data"
    }
   ],
   "source": [
    "display(retail.duplicated().sum())\n",
    "display(product_codes.duplicated().sum())"
   ]
  },
  {
   "cell_type": "markdown",
   "metadata": {},
   "source": [
    "Как видим в таблице retail 1033 полных дубликата, что нас не устраивает - даже если все было бы идентично, то время покупки не могло быть одинаковым. Поэтому удалим их методом drop_duplicates()."
   ]
  },
  {
   "cell_type": "code",
   "execution_count": 13,
   "metadata": {},
   "outputs": [
    {
     "data": {
      "text/plain": [
       "0"
      ]
     },
     "metadata": {},
     "output_type": "display_data"
    },
    {
     "data": {
      "text/plain": [
       "0"
      ]
     },
     "metadata": {},
     "output_type": "display_data"
    }
   ],
   "source": [
    "retail = retail.drop_duplicates().reset_index(drop = True)\n",
    "product_codes = product_codes.drop_duplicates().reset_index(drop = True)\n",
    "display(retail.duplicated().sum())\n",
    "display(product_codes.duplicated().sum())"
   ]
  },
  {
   "cell_type": "markdown",
   "metadata": {},
   "source": [
    "Теперь проанализируем могут ли быть \"ненужные дубликаты\" в столбцах таблиц. Для таблицы retail: по каждому отдельно взятому столбцу дубликаты быть могут. А вот для таблицы product_codes, которая является словарем, в столбце item_id дубликатов быть не должно. Один код товара - одна цена. Проверим столбец на дубликаты:"
   ]
  },
  {
   "cell_type": "code",
   "execution_count": 14,
   "metadata": {},
   "outputs": [
    {
     "data": {
      "text/plain": [
       "6810"
      ]
     },
     "metadata": {},
     "output_type": "display_data"
    }
   ],
   "source": [
    "display(product_codes['item_id'].duplicated().sum())"
   ]
  },
  {
   "cell_type": "markdown",
   "metadata": {},
   "source": [
    "Неприятная ситуация: на 10000 строк почти 7 тысяч дубликатов. А если учесть, что полных строк дубликатов в таблице нет, то получается следущий момент - на большое количество товаров есть несколько цен. Поскольку реальную цену каждого товара у нас нет возможности, то воспользуемся медианой: для каждого ИД товара найдем медианное значение цены."
   ]
  },
  {
   "cell_type": "code",
   "execution_count": 15,
   "metadata": {},
   "outputs": [
    {
     "data": {
      "text/html": [
       "<div>\n",
       "<style scoped>\n",
       "    .dataframe tbody tr th:only-of-type {\n",
       "        vertical-align: middle;\n",
       "    }\n",
       "\n",
       "    .dataframe tbody tr th {\n",
       "        vertical-align: top;\n",
       "    }\n",
       "\n",
       "    .dataframe thead th {\n",
       "        text-align: right;\n",
       "    }\n",
       "</style>\n",
       "<table border=\"1\" class=\"dataframe\">\n",
       "  <thead>\n",
       "    <tr style=\"text-align: right;\">\n",
       "      <th></th>\n",
       "      <th>item_id</th>\n",
       "      <th>price_per_one</th>\n",
       "    </tr>\n",
       "  </thead>\n",
       "  <tbody>\n",
       "    <tr>\n",
       "      <td>0</td>\n",
       "      <td>10002</td>\n",
       "      <td>1.630</td>\n",
       "    </tr>\n",
       "    <tr>\n",
       "      <td>1</td>\n",
       "      <td>10080</td>\n",
       "      <td>0.850</td>\n",
       "    </tr>\n",
       "    <tr>\n",
       "      <td>2</td>\n",
       "      <td>10120</td>\n",
       "      <td>0.210</td>\n",
       "    </tr>\n",
       "    <tr>\n",
       "      <td>3</td>\n",
       "      <td>10123C</td>\n",
       "      <td>0.650</td>\n",
       "    </tr>\n",
       "    <tr>\n",
       "      <td>4</td>\n",
       "      <td>10124A</td>\n",
       "      <td>0.420</td>\n",
       "    </tr>\n",
       "    <tr>\n",
       "      <td>...</td>\n",
       "      <td>...</td>\n",
       "      <td>...</td>\n",
       "    </tr>\n",
       "    <tr>\n",
       "      <td>3154</td>\n",
       "      <td>gift_0001_20</td>\n",
       "      <td>16.845</td>\n",
       "    </tr>\n",
       "    <tr>\n",
       "      <td>3155</td>\n",
       "      <td>gift_0001_30</td>\n",
       "      <td>25.265</td>\n",
       "    </tr>\n",
       "    <tr>\n",
       "      <td>3156</td>\n",
       "      <td>gift_0001_40</td>\n",
       "      <td>34.040</td>\n",
       "    </tr>\n",
       "    <tr>\n",
       "      <td>3157</td>\n",
       "      <td>gift_0001_50</td>\n",
       "      <td>42.550</td>\n",
       "    </tr>\n",
       "    <tr>\n",
       "      <td>3158</td>\n",
       "      <td>m</td>\n",
       "      <td>2.550</td>\n",
       "    </tr>\n",
       "  </tbody>\n",
       "</table>\n",
       "<p>3159 rows × 2 columns</p>\n",
       "</div>"
      ],
      "text/plain": [
       "           item_id  price_per_one\n",
       "0            10002          1.630\n",
       "1            10080          0.850\n",
       "2            10120          0.210\n",
       "3           10123C          0.650\n",
       "4           10124A          0.420\n",
       "...            ...            ...\n",
       "3154  gift_0001_20         16.845\n",
       "3155  gift_0001_30         25.265\n",
       "3156  gift_0001_40         34.040\n",
       "3157  gift_0001_50         42.550\n",
       "3158             m          2.550\n",
       "\n",
       "[3159 rows x 2 columns]"
      ]
     },
     "metadata": {},
     "output_type": "display_data"
    }
   ],
   "source": [
    "product_codes_new = product_codes.pivot_table(index='item_id', values='price_per_one', aggfunc='median').reset_index()\n",
    "display(product_codes_new)"
   ]
  },
  {
   "cell_type": "markdown",
   "metadata": {},
   "source": [
    "В итоге наш датафрейм сократился на 2/3 и получилось 3159 уникальных пар ИД товара - цена. \n",
    "\n",
    "Обе таблицы преобразованы - самое время объединить их в одну методом merge(). После этого посмотрим на смердженную таблицу методом info()."
   ]
  },
  {
   "cell_type": "code",
   "execution_count": 16,
   "metadata": {},
   "outputs": [],
   "source": [
    "retail_merge = retail.merge(product_codes_new,  how = 'outer', on = ['item_id'])"
   ]
  },
  {
   "cell_type": "code",
   "execution_count": 17,
   "metadata": {},
   "outputs": [
    {
     "name": "stdout",
     "output_type": "stream",
     "text": [
      "<class 'pandas.core.frame.DataFrame'>\n",
      "Int64Index: 104302 entries, 0 to 104301\n",
      "Data columns (total 8 columns):\n",
      "purchase_id        104302 non-null object\n",
      "item_id            104302 non-null object\n",
      "quantity           104302 non-null int64\n",
      "purchase_date      104302 non-null datetime64[ns]\n",
      "customer_id        104302 non-null object\n",
      "shop_id            104302 non-null object\n",
      "loyalty_program    104302 non-null int64\n",
      "price_per_one      104302 non-null float64\n",
      "dtypes: datetime64[ns](1), float64(1), int64(2), object(4)\n",
      "memory usage: 7.2+ MB\n"
     ]
    },
    {
     "data": {
      "text/html": [
       "<div>\n",
       "<style scoped>\n",
       "    .dataframe tbody tr th:only-of-type {\n",
       "        vertical-align: middle;\n",
       "    }\n",
       "\n",
       "    .dataframe tbody tr th {\n",
       "        vertical-align: top;\n",
       "    }\n",
       "\n",
       "    .dataframe thead th {\n",
       "        text-align: right;\n",
       "    }\n",
       "</style>\n",
       "<table border=\"1\" class=\"dataframe\">\n",
       "  <thead>\n",
       "    <tr style=\"text-align: right;\">\n",
       "      <th></th>\n",
       "      <th>quantity</th>\n",
       "      <th>loyalty_program</th>\n",
       "      <th>price_per_one</th>\n",
       "    </tr>\n",
       "  </thead>\n",
       "  <tbody>\n",
       "    <tr>\n",
       "      <td>count</td>\n",
       "      <td>104302.000000</td>\n",
       "      <td>104302.000000</td>\n",
       "      <td>104302.000000</td>\n",
       "    </tr>\n",
       "    <tr>\n",
       "      <td>mean</td>\n",
       "      <td>7.883003</td>\n",
       "      <td>0.224464</td>\n",
       "      <td>5.299516</td>\n",
       "    </tr>\n",
       "    <tr>\n",
       "      <td>std</td>\n",
       "      <td>329.565540</td>\n",
       "      <td>0.417231</td>\n",
       "      <td>69.549226</td>\n",
       "    </tr>\n",
       "    <tr>\n",
       "      <td>min</td>\n",
       "      <td>-74216.000000</td>\n",
       "      <td>0.000000</td>\n",
       "      <td>0.000000</td>\n",
       "    </tr>\n",
       "    <tr>\n",
       "      <td>25%</td>\n",
       "      <td>0.000000</td>\n",
       "      <td>0.000000</td>\n",
       "      <td>1.650000</td>\n",
       "    </tr>\n",
       "    <tr>\n",
       "      <td>50%</td>\n",
       "      <td>2.000000</td>\n",
       "      <td>0.000000</td>\n",
       "      <td>3.040000</td>\n",
       "    </tr>\n",
       "    <tr>\n",
       "      <td>75%</td>\n",
       "      <td>7.000000</td>\n",
       "      <td>0.000000</td>\n",
       "      <td>5.205000</td>\n",
       "    </tr>\n",
       "    <tr>\n",
       "      <td>max</td>\n",
       "      <td>74214.000000</td>\n",
       "      <td>1.000000</td>\n",
       "      <td>6706.710000</td>\n",
       "    </tr>\n",
       "  </tbody>\n",
       "</table>\n",
       "</div>"
      ],
      "text/plain": [
       "            quantity  loyalty_program  price_per_one\n",
       "count  104302.000000    104302.000000  104302.000000\n",
       "mean        7.883003         0.224464       5.299516\n",
       "std       329.565540         0.417231      69.549226\n",
       "min    -74216.000000         0.000000       0.000000\n",
       "25%         0.000000         0.000000       1.650000\n",
       "50%         2.000000         0.000000       3.040000\n",
       "75%         7.000000         0.000000       5.205000\n",
       "max     74214.000000         1.000000    6706.710000"
      ]
     },
     "metadata": {},
     "output_type": "display_data"
    },
    {
     "data": {
      "text/html": [
       "<div>\n",
       "<style scoped>\n",
       "    .dataframe tbody tr th:only-of-type {\n",
       "        vertical-align: middle;\n",
       "    }\n",
       "\n",
       "    .dataframe tbody tr th {\n",
       "        vertical-align: top;\n",
       "    }\n",
       "\n",
       "    .dataframe thead th {\n",
       "        text-align: right;\n",
       "    }\n",
       "</style>\n",
       "<table border=\"1\" class=\"dataframe\">\n",
       "  <thead>\n",
       "    <tr style=\"text-align: right;\">\n",
       "      <th></th>\n",
       "      <th>purchase_id</th>\n",
       "      <th>item_id</th>\n",
       "      <th>quantity</th>\n",
       "      <th>purchase_date</th>\n",
       "      <th>customer_id</th>\n",
       "      <th>shop_id</th>\n",
       "      <th>loyalty_program</th>\n",
       "      <th>price_per_one</th>\n",
       "    </tr>\n",
       "  </thead>\n",
       "  <tbody>\n",
       "    <tr>\n",
       "      <td>0</td>\n",
       "      <td>538280</td>\n",
       "      <td>21873</td>\n",
       "      <td>11</td>\n",
       "      <td>2016-12-10 12:50:00</td>\n",
       "      <td>18427</td>\n",
       "      <td>Shop 0</td>\n",
       "      <td>0</td>\n",
       "      <td>1.63</td>\n",
       "    </tr>\n",
       "    <tr>\n",
       "      <td>1</td>\n",
       "      <td>541104</td>\n",
       "      <td>21873</td>\n",
       "      <td>0</td>\n",
       "      <td>2017-01-13 14:29:00</td>\n",
       "      <td>541104</td>\n",
       "      <td>Shop 0</td>\n",
       "      <td>0</td>\n",
       "      <td>1.63</td>\n",
       "    </tr>\n",
       "    <tr>\n",
       "      <td>2</td>\n",
       "      <td>540418</td>\n",
       "      <td>21873</td>\n",
       "      <td>1</td>\n",
       "      <td>2017-01-07 11:04:00</td>\n",
       "      <td>540418</td>\n",
       "      <td>Shop 0</td>\n",
       "      <td>0</td>\n",
       "      <td>1.63</td>\n",
       "    </tr>\n",
       "    <tr>\n",
       "      <td>3</td>\n",
       "      <td>541516</td>\n",
       "      <td>21873</td>\n",
       "      <td>2</td>\n",
       "      <td>2017-01-18 17:34:00</td>\n",
       "      <td>541516</td>\n",
       "      <td>Shop 0</td>\n",
       "      <td>0</td>\n",
       "      <td>1.63</td>\n",
       "    </tr>\n",
       "    <tr>\n",
       "      <td>4</td>\n",
       "      <td>541566</td>\n",
       "      <td>21873</td>\n",
       "      <td>35</td>\n",
       "      <td>2017-01-19 11:50:00</td>\n",
       "      <td>23401</td>\n",
       "      <td>Shop 0</td>\n",
       "      <td>1</td>\n",
       "      <td>1.63</td>\n",
       "    </tr>\n",
       "    <tr>\n",
       "      <td>...</td>\n",
       "      <td>...</td>\n",
       "      <td>...</td>\n",
       "      <td>...</td>\n",
       "      <td>...</td>\n",
       "      <td>...</td>\n",
       "      <td>...</td>\n",
       "      <td>...</td>\n",
       "      <td>...</td>\n",
       "    </tr>\n",
       "    <tr>\n",
       "      <td>104297</td>\n",
       "      <td>538852</td>\n",
       "      <td>90058B</td>\n",
       "      <td>35</td>\n",
       "      <td>2016-12-14 13:33:00</td>\n",
       "      <td>23051</td>\n",
       "      <td>Shop 0</td>\n",
       "      <td>1</td>\n",
       "      <td>0.38</td>\n",
       "    </tr>\n",
       "    <tr>\n",
       "      <td>104298</td>\n",
       "      <td>539988</td>\n",
       "      <td>46138B</td>\n",
       "      <td>1</td>\n",
       "      <td>2016-12-23 16:06:00</td>\n",
       "      <td>23795</td>\n",
       "      <td>Shop 0</td>\n",
       "      <td>1</td>\n",
       "      <td>1.95</td>\n",
       "    </tr>\n",
       "    <tr>\n",
       "      <td>104299</td>\n",
       "      <td>537025</td>\n",
       "      <td>90053</td>\n",
       "      <td>0</td>\n",
       "      <td>2016-12-03 16:21:00</td>\n",
       "      <td>537025</td>\n",
       "      <td>Shop 0</td>\n",
       "      <td>0</td>\n",
       "      <td>2.55</td>\n",
       "    </tr>\n",
       "    <tr>\n",
       "      <td>104300</td>\n",
       "      <td>542731</td>\n",
       "      <td>17028J</td>\n",
       "      <td>5</td>\n",
       "      <td>2017-01-31 15:27:00</td>\n",
       "      <td>19279</td>\n",
       "      <td>Shop 0</td>\n",
       "      <td>0</td>\n",
       "      <td>0.42</td>\n",
       "    </tr>\n",
       "    <tr>\n",
       "      <td>104301</td>\n",
       "      <td>C540246</td>\n",
       "      <td>79320</td>\n",
       "      <td>-2</td>\n",
       "      <td>2017-01-05 15:43:00</td>\n",
       "      <td>18760</td>\n",
       "      <td>Shop 0</td>\n",
       "      <td>0</td>\n",
       "      <td>4.95</td>\n",
       "    </tr>\n",
       "  </tbody>\n",
       "</table>\n",
       "<p>104302 rows × 8 columns</p>\n",
       "</div>"
      ],
      "text/plain": [
       "       purchase_id item_id  quantity       purchase_date customer_id shop_id  \\\n",
       "0           538280   21873        11 2016-12-10 12:50:00       18427  Shop 0   \n",
       "1           541104   21873         0 2017-01-13 14:29:00      541104  Shop 0   \n",
       "2           540418   21873         1 2017-01-07 11:04:00      540418  Shop 0   \n",
       "3           541516   21873         2 2017-01-18 17:34:00      541516  Shop 0   \n",
       "4           541566   21873        35 2017-01-19 11:50:00       23401  Shop 0   \n",
       "...            ...     ...       ...                 ...         ...     ...   \n",
       "104297      538852  90058B        35 2016-12-14 13:33:00       23051  Shop 0   \n",
       "104298      539988  46138B         1 2016-12-23 16:06:00       23795  Shop 0   \n",
       "104299      537025   90053         0 2016-12-03 16:21:00      537025  Shop 0   \n",
       "104300      542731  17028J         5 2017-01-31 15:27:00       19279  Shop 0   \n",
       "104301     C540246   79320        -2 2017-01-05 15:43:00       18760  Shop 0   \n",
       "\n",
       "        loyalty_program  price_per_one  \n",
       "0                     0           1.63  \n",
       "1                     0           1.63  \n",
       "2                     0           1.63  \n",
       "3                     0           1.63  \n",
       "4                     1           1.63  \n",
       "...                 ...            ...  \n",
       "104297                1           0.38  \n",
       "104298                1           1.95  \n",
       "104299                0           2.55  \n",
       "104300                0           0.42  \n",
       "104301                0           4.95  \n",
       "\n",
       "[104302 rows x 8 columns]"
      ]
     },
     "metadata": {},
     "output_type": "display_data"
    },
    {
     "data": {
      "text/plain": [
       "None"
      ]
     },
     "metadata": {},
     "output_type": "display_data"
    }
   ],
   "source": [
    "display(df_info(retail_merge))"
   ]
  },
  {
   "cell_type": "markdown",
   "metadata": {},
   "source": [
    "**Подведем итоги предобработки:**\n",
    "1. Названия столбцов приведены к нижнему регистру и переименованы на более удобные.\n",
    "2. Данные приведены к нужным типам\n",
    "3. Пропуски обработаны и при этом мы не потеряли около 35 тысяч записей как если бы просто удалили их.\n",
    "4. Дубликаты удалены, как полные строки - в таблице retail, так и одинаковые ИД товара - в таблице продуктовых кодов. Параллельно с этим создан датафрейм с уникальными парами код-цена, где цену мы взяли как медиану по ценам каждого уникального товара.\n",
    "5. Таблицы после всех обработок мы объединили, получив общий датафрейм со всеми интересующими нас данными."
   ]
  },
  {
   "cell_type": "markdown",
   "metadata": {},
   "source": [
    "### Шаг №3. Провести исследовательский анализ данных (EDA)<a id=\"step7\"></a>\n",
    "\n",
    "---\n",
    "**Посмотреть, за какой период наши данные. Проверить полные ли они на всем периоде или нет**<a id=\"step8\"></a>\n",
    "\n",
    "---\n",
    "Выделим из столбца purchase_date дату и сохраним в столбец date. Проверим за какой период мы располагаем данными. Найдем с помощью функций min() и max() минимальную и максимальную даты в нашем датафрейме."
   ]
  },
  {
   "cell_type": "code",
   "execution_count": 18,
   "metadata": {},
   "outputs": [],
   "source": [
    "retail_merge['date'] = retail_merge['purchase_date'].dt.date\n",
    "retail_merge['date'] = pd.to_datetime(retail_merge['date'])"
   ]
  },
  {
   "cell_type": "code",
   "execution_count": 19,
   "metadata": {},
   "outputs": [
    {
     "data": {
      "text/plain": [
       "'Мы располагаем данными с 2016-12-01 по 2017-02-28'"
      ]
     },
     "metadata": {},
     "output_type": "display_data"
    }
   ],
   "source": [
    "display('Мы располагаем данными с {} по {}'.format(retail_merge['date'].min().strftime('%Y-%m-%d'),retail_merge['date'].max().strftime('%Y-%m-%d')))"
   ]
  },
  {
   "cell_type": "markdown",
   "metadata": {},
   "source": [
    "Мы имеем данные с 1 декабря 2016 года по 28 февраля 2017 года, т.е. три полных месяца. На этот период приходится новый год, поэтому наши данными могут быть неполными - вряд ли строительный магазин пользуется популярностью в новогодние праздники. Построим распределение количества покупок по датам, также добавив деление по программе лояльности. Воспользуемся для этого методом pivot_table()."
   ]
  },
  {
   "cell_type": "markdown",
   "metadata": {},
   "source": [
    "**Построить график распределения количества покупок по дням**<a id=\"step9\"></a>\n",
    "\n",
    "---\n",
    "Получим сводную таблицу для каждой даты, значения - количество покупок, столбцы - клиенты неучаствующие в программе лояльности cnt_0, участвующие cnt_1 и объединенный столбец cnt_all. "
   ]
  },
  {
   "cell_type": "code",
   "execution_count": 20,
   "metadata": {},
   "outputs": [
    {
     "data": {
      "text/html": [
       "<div>\n",
       "<style scoped>\n",
       "    .dataframe tbody tr th:only-of-type {\n",
       "        vertical-align: middle;\n",
       "    }\n",
       "\n",
       "    .dataframe tbody tr th {\n",
       "        vertical-align: top;\n",
       "    }\n",
       "\n",
       "    .dataframe thead th {\n",
       "        text-align: right;\n",
       "    }\n",
       "</style>\n",
       "<table border=\"1\" class=\"dataframe\">\n",
       "  <thead>\n",
       "    <tr style=\"text-align: right;\">\n",
       "      <th></th>\n",
       "      <th>date</th>\n",
       "      <th>cnt_0</th>\n",
       "      <th>cnt_1</th>\n",
       "      <th>cnt_all</th>\n",
       "    </tr>\n",
       "  </thead>\n",
       "  <tbody>\n",
       "    <tr>\n",
       "      <td>0</td>\n",
       "      <td>2016-12-01</td>\n",
       "      <td>94</td>\n",
       "      <td>49</td>\n",
       "      <td>143</td>\n",
       "    </tr>\n",
       "    <tr>\n",
       "      <td>1</td>\n",
       "      <td>2016-12-02</td>\n",
       "      <td>101</td>\n",
       "      <td>66</td>\n",
       "      <td>167</td>\n",
       "    </tr>\n",
       "    <tr>\n",
       "      <td>2</td>\n",
       "      <td>2016-12-03</td>\n",
       "      <td>83</td>\n",
       "      <td>25</td>\n",
       "      <td>108</td>\n",
       "    </tr>\n",
       "    <tr>\n",
       "      <td>3</td>\n",
       "      <td>2016-12-05</td>\n",
       "      <td>69</td>\n",
       "      <td>26</td>\n",
       "      <td>95</td>\n",
       "    </tr>\n",
       "    <tr>\n",
       "      <td>4</td>\n",
       "      <td>2016-12-06</td>\n",
       "      <td>89</td>\n",
       "      <td>44</td>\n",
       "      <td>133</td>\n",
       "    </tr>\n",
       "    <tr>\n",
       "      <td>...</td>\n",
       "      <td>...</td>\n",
       "      <td>...</td>\n",
       "      <td>...</td>\n",
       "      <td>...</td>\n",
       "    </tr>\n",
       "    <tr>\n",
       "      <td>63</td>\n",
       "      <td>2017-02-23</td>\n",
       "      <td>46</td>\n",
       "      <td>22</td>\n",
       "      <td>68</td>\n",
       "    </tr>\n",
       "    <tr>\n",
       "      <td>64</td>\n",
       "      <td>2017-02-24</td>\n",
       "      <td>42</td>\n",
       "      <td>24</td>\n",
       "      <td>66</td>\n",
       "    </tr>\n",
       "    <tr>\n",
       "      <td>65</td>\n",
       "      <td>2017-02-25</td>\n",
       "      <td>42</td>\n",
       "      <td>9</td>\n",
       "      <td>51</td>\n",
       "    </tr>\n",
       "    <tr>\n",
       "      <td>66</td>\n",
       "      <td>2017-02-27</td>\n",
       "      <td>27</td>\n",
       "      <td>8</td>\n",
       "      <td>35</td>\n",
       "    </tr>\n",
       "    <tr>\n",
       "      <td>67</td>\n",
       "      <td>2017-02-28</td>\n",
       "      <td>45</td>\n",
       "      <td>16</td>\n",
       "      <td>61</td>\n",
       "    </tr>\n",
       "  </tbody>\n",
       "</table>\n",
       "<p>68 rows × 4 columns</p>\n",
       "</div>"
      ],
      "text/plain": [
       "         date  cnt_0  cnt_1  cnt_all\n",
       "0  2016-12-01     94     49      143\n",
       "1  2016-12-02    101     66      167\n",
       "2  2016-12-03     83     25      108\n",
       "3  2016-12-05     69     26       95\n",
       "4  2016-12-06     89     44      133\n",
       "..        ...    ...    ...      ...\n",
       "63 2017-02-23     46     22       68\n",
       "64 2017-02-24     42     24       66\n",
       "65 2017-02-25     42      9       51\n",
       "66 2017-02-27     27      8       35\n",
       "67 2017-02-28     45     16       61\n",
       "\n",
       "[68 rows x 4 columns]"
      ]
     },
     "metadata": {},
     "output_type": "display_data"
    }
   ],
   "source": [
    "purchase_by_date = retail_merge.pivot_table(index='date', columns = 'loyalty_program', values='purchase_id',aggfunc='nunique').reset_index()\n",
    "purchase_by_date.columns = ['date', 'cnt_0', 'cnt_1']\n",
    "purchase_by_date['cnt_all'] = purchase_by_date['cnt_0'] + purchase_by_date['cnt_1']\n",
    "display(purchase_by_date)"
   ]
  },
  {
   "cell_type": "markdown",
   "metadata": {},
   "source": [
    "Обратим внимание что даты есть не все (после 3 декабря сразу идет 5-е, а значит есть дни когда покупок не было). Построим распределение всех чеков по дням и посмотрим на него."
   ]
  },
  {
   "cell_type": "code",
   "execution_count": 21,
   "metadata": {},
   "outputs": [
    {
     "data": {
      "image/png": "[encoded data removed]",
      "text/plain": [
       "<Figure size 1296x432 with 1 Axes>"
      ]
     },
     "metadata": {},
     "output_type": "display_data"
    }
   ],
   "source": [
    "x = purchase_by_date['date'].map(lambda x: dt.datetime.strftime(x, '%Y-%m-%d'))\n",
    "y1 = purchase_by_date['cnt_0']\n",
    "y2 = purchase_by_date['cnt_1']\n",
    "\n",
    "fig, ax = plt.subplots()\n",
    "\n",
    "ax.bar(x, y1, label='Покупки вне программы лояльности')\n",
    "ax.bar(x, y2, bottom = y1, label='Покупки по программе лояльности')\n",
    "ax.set_facecolor('seashell')\n",
    "fig.set_facecolor('floralwhite')\n",
    "fig.set_figwidth(18)    #  ширина Figure\n",
    "fig.set_figheight(6)    #  высота Figure\n",
    "ax.grid()\n",
    "\n",
    "ax.set_title('Распределение числа покупок по дням')\n",
    "ax.set_xlabel('Дата')\n",
    "ax.set_ylabel('Количество покупок')\n",
    "ax.set_xticklabels(x, rotation=90)\n",
    "ax.legend()\n",
    "plt.show();"
   ]
  },
  {
   "cell_type": "code",
   "execution_count": 22,
   "metadata": {},
   "outputs": [
    {
     "data": {
      "image/png": "[encoded data removed]",
      "text/plain": [
       "<Figure size 1296x432 with 1 Axes>"
      ]
     },
     "metadata": {},
     "output_type": "display_data"
    }
   ],
   "source": [
    "x = purchase_by_date['date'].map(lambda x: dt.datetime.strftime(x, '%Y-%m-%d'))\n",
    "y1 = purchase_by_date['cnt_0']\n",
    "y2 = purchase_by_date['cnt_1']\n",
    "\n",
    "fig, ax = plt.subplots()\n",
    "\n",
    "ax.plot(x, y1, label='Покупки вне программы лояльности')\n",
    "ax.plot(x, y2, label='Покупки по программе лояльности')\n",
    "ax.set_facecolor('seashell')\n",
    "fig.set_facecolor('floralwhite')\n",
    "fig.set_figwidth(18)    #  ширина Figure\n",
    "fig.set_figheight(6)    #  высота Figure\n",
    "ax.grid()\n",
    "\n",
    "ax.set_title('Распределение числа покупок по дням')\n",
    "ax.set_xlabel('Дата')\n",
    "ax.set_ylabel('Количество покупок')\n",
    "ax.set_xticklabels(x, rotation=90)\n",
    "ax.legend()\n",
    "plt.show();"
   ]
  },
  {
   "cell_type": "markdown",
   "metadata": {},
   "source": [
    "На что нужно обратить внимание,глядя на этот график:\n",
    "1. До середины декабря покупок было значительно больше, чем в январе и феврале. Причем распределение в январе и феврале достаточно равномерное\n",
    "2. Отсутствуют данные с 24 декабря по 3 января: магазин не работал? люди не покупали? или просто данные потерялись?\n",
    "3. Также данные отсутствуют для 1 дня в неделю: 4.12, 11.12, 18.12... в эти дни профилактика? или инвентаризация? или раз в неделю выгрузка сбоит и мы не получаем данных?\n",
    "4. Количество покупок вне программы лояльности больше, чем число покупок по программе.\n",
    "\n",
    "<div class=\"alert alert-block alert-info\">\n",
    "\n",
    "5. График распределения по дням для \"лояльных\" клиентов более плавный, в то время как у \"нелояльных\" график идет скачками.\n",
    "</div>"
   ]
  },
  {
   "cell_type": "markdown",
   "metadata": {},
   "source": [
    "**Построить гистограмму, отображающую количество покупок на покупателей.**<a id=\"step10\"></a>\n",
    "\n",
    "---\n",
    "Проведем такие же действия как и в предыдущем пункте, но с небольшими отличиями. Во-первых у нас получатся пропущенные значения, так как вряд ли покупатель с картой лояльности будет делать покупки без нее (проверил, таких нет)."
   ]
  },
  {
   "cell_type": "code",
   "execution_count": 23,
   "metadata": {},
   "outputs": [
    {
     "data": {
      "text/html": [
       "<div>\n",
       "<style scoped>\n",
       "    .dataframe tbody tr th:only-of-type {\n",
       "        vertical-align: middle;\n",
       "    }\n",
       "\n",
       "    .dataframe tbody tr th {\n",
       "        vertical-align: top;\n",
       "    }\n",
       "\n",
       "    .dataframe thead th {\n",
       "        text-align: right;\n",
       "    }\n",
       "</style>\n",
       "<table border=\"1\" class=\"dataframe\">\n",
       "  <thead>\n",
       "    <tr style=\"text-align: right;\">\n",
       "      <th></th>\n",
       "      <th>cnt_0</th>\n",
       "      <th>cnt_1</th>\n",
       "    </tr>\n",
       "  </thead>\n",
       "  <tbody>\n",
       "    <tr>\n",
       "      <td>count</td>\n",
       "      <td>1910.000000</td>\n",
       "      <td>587.000000</td>\n",
       "    </tr>\n",
       "    <tr>\n",
       "      <td>mean</td>\n",
       "      <td>1.858639</td>\n",
       "      <td>2.289608</td>\n",
       "    </tr>\n",
       "    <tr>\n",
       "      <td>std</td>\n",
       "      <td>2.576014</td>\n",
       "      <td>2.520485</td>\n",
       "    </tr>\n",
       "    <tr>\n",
       "      <td>min</td>\n",
       "      <td>1.000000</td>\n",
       "      <td>1.000000</td>\n",
       "    </tr>\n",
       "    <tr>\n",
       "      <td>25%</td>\n",
       "      <td>1.000000</td>\n",
       "      <td>1.000000</td>\n",
       "    </tr>\n",
       "    <tr>\n",
       "      <td>50%</td>\n",
       "      <td>1.000000</td>\n",
       "      <td>1.000000</td>\n",
       "    </tr>\n",
       "    <tr>\n",
       "      <td>75%</td>\n",
       "      <td>2.000000</td>\n",
       "      <td>3.000000</td>\n",
       "    </tr>\n",
       "    <tr>\n",
       "      <td>max</td>\n",
       "      <td>46.000000</td>\n",
       "      <td>35.000000</td>\n",
       "    </tr>\n",
       "  </tbody>\n",
       "</table>\n",
       "</div>"
      ],
      "text/plain": [
       "             cnt_0       cnt_1\n",
       "count  1910.000000  587.000000\n",
       "mean      1.858639    2.289608\n",
       "std       2.576014    2.520485\n",
       "min       1.000000    1.000000\n",
       "25%       1.000000    1.000000\n",
       "50%       1.000000    1.000000\n",
       "75%       2.000000    3.000000\n",
       "max      46.000000   35.000000"
      ]
     },
     "metadata": {},
     "output_type": "display_data"
    }
   ],
   "source": [
    "purchase_by_customer = retail_merge.pivot_table(index='customer_id', columns = 'loyalty_program', values='purchase_id',aggfunc='nunique').reset_index()\n",
    "purchase_by_customer.columns = ['customer', 'cnt_0', 'cnt_1']\n",
    "display(purchase_by_customer.describe())"
   ]
  },
  {
   "cell_type": "code",
   "execution_count": 24,
   "metadata": {},
   "outputs": [
    {
     "data": {
      "text/plain": [
       "count    1910.000000\n",
       "mean        1.858639\n",
       "std         2.576014\n",
       "min         1.000000\n",
       "25%         1.000000\n",
       "50%         1.000000\n",
       "75%         2.000000\n",
       "max        46.000000\n",
       "Name: cnt_0, dtype: float64"
      ]
     },
     "metadata": {},
     "output_type": "display_data"
    }
   ],
   "source": [
    "display(purchase_by_customer['cnt_0'].describe())"
   ]
  },
  {
   "cell_type": "markdown",
   "metadata": {},
   "source": [
    "Максимальное число покупок на одного пользователя равно 46 для клиентов вне программы лояльности и 35 - для тех кто в программе лояльности, а средние значения 1,85 и 2,3 соответственно, а по медиане - всего 1 покупка для обеих категорий.\n",
    "\n",
    "Построим гистограмму распределения покупок по покупателям."
   ]
  },
  {
   "cell_type": "code",
   "execution_count": 25,
   "metadata": {},
   "outputs": [
    {
     "data": {
      "image/png": "[encoded data removed]",
      "text/plain": [
       "<Figure size 1296x432 with 1 Axes>"
      ]
     },
     "metadata": {},
     "output_type": "display_data"
    }
   ],
   "source": [
    "x = purchase_by_customer['cnt_0']\n",
    "x1 = purchase_by_customer['cnt_1']\n",
    "fig, ax = plt.subplots()\n",
    "\n",
    "ax.hist(x, color='b', Label='Покупки вне программы лояльности', range=(0, 10), bins=10, width=0.5)\n",
    "ax.hist(x1, color='r', Label='Покупки по программе лояльности', range=(0, 10), bins=10, width=0.5)\n",
    "\n",
    "ax.set_facecolor('seashell')\n",
    "fig.set_facecolor('floralwhite')\n",
    "fig.set_figwidth(18)    #  ширина Figure\n",
    "fig.set_figheight(6)    #  высота Figure\n",
    "ax.grid()\n",
    "\n",
    "ax.set_title('Распределение числа покупок по покупателям')\n",
    "ax.set_xlabel('Количество покупок')\n",
    "ax.set_ylabel('Плотность вероятности')\n",
    "ax.legend()\n",
    "plt.show();"
   ]
  },
  {
   "cell_type": "markdown",
   "metadata": {},
   "source": [
    "<div class=\"alert alert-block alert-info\">\n",
    "\n",
    "Судя по графику количество покупок \"лояльных\" покупателей меньше, но мы видим что у \"нелояльных\" покупателей очень большое количество одиночных покупок. Это получилось из-за того, что мы присвоили в предобработке ИД чека ИД пользователю чтобы не терять данные и у нас получилось что у всех пропущенных значений пользователя только один чек на одного покупателя. Из-за этого получились также и искаженные средние значения.\n",
    "\n",
    "Не очень хочется отбрасывать эту метрику (тем более что от этого пострадает и метрика среднего чека, и метрика выручки на покупателя), поэтому признаем ошибку и уберем из таблицы retail_merge все строки где purchase_id = customer_id. Правда полная таблица нам еще пригодится для построения графика выручки по магазинам.\n",
    "</div>"
   ]
  },
  {
   "cell_type": "code",
   "execution_count": 26,
   "metadata": {},
   "outputs": [],
   "source": [
    "retail_real = retail_merge.query('purchase_id != customer_id').reset_index(drop=True)"
   ]
  },
  {
   "cell_type": "code",
   "execution_count": 27,
   "metadata": {},
   "outputs": [],
   "source": [
    "purchase_by_customer = retail_real.pivot_table(index='customer_id', columns = 'loyalty_program', values='purchase_id',aggfunc='nunique').reset_index()\n",
    "purchase_by_customer.columns = ['customer', 'cnt_0', 'cnt_1']"
   ]
  },
  {
   "cell_type": "code",
   "execution_count": 28,
   "metadata": {},
   "outputs": [
    {
     "data": {
      "image/png": "[encoded data removed]",
      "text/plain": [
       "<Figure size 1296x432 with 1 Axes>"
      ]
     },
     "metadata": {},
     "output_type": "display_data"
    }
   ],
   "source": [
    "x = purchase_by_customer['cnt_0']\n",
    "x1 = purchase_by_customer['cnt_1']\n",
    "fig, ax = plt.subplots()\n",
    "\n",
    "ax.hist(x, color='b', Label='Покупки вне программы лояльности', range=(0, 10), bins=10, width=0.5)\n",
    "ax.hist(x1, color='r', Label='Покупки по программе лояльности', range=(0, 10), bins=10, width=0.5)\n",
    "\n",
    "ax.set_facecolor('seashell')\n",
    "fig.set_facecolor('floralwhite')\n",
    "fig.set_figwidth(18)    #  ширина Figure\n",
    "fig.set_figheight(6)    #  высота Figure\n",
    "ax.grid()\n",
    "\n",
    "ax.set_title('Распределение числа покупок по покупателям')\n",
    "ax.set_xlabel('Количество покупок')\n",
    "ax.set_ylabel('Плотность вероятности')\n",
    "ax.legend()\n",
    "plt.show();"
   ]
  },
  {
   "cell_type": "markdown",
   "metadata": {},
   "source": [
    "<div class=\"alert alert-block alert-info\">\n",
    "\n",
    "Картина сразу поменялась. Вместо почти 1400 одиночных чеков теперь их стало чуть больше 600. Собственно изменения коснулись только \"нелояльных\" покупателей с одним чеком, но благодаря этому мы увидели более реальную картину. Посмотрим как изменились средние значения.\n",
    "</div>"
   ]
  },
  {
   "cell_type": "code",
   "execution_count": 29,
   "metadata": {},
   "outputs": [
    {
     "data": {
      "text/html": [
       "<div>\n",
       "<style scoped>\n",
       "    .dataframe tbody tr th:only-of-type {\n",
       "        vertical-align: middle;\n",
       "    }\n",
       "\n",
       "    .dataframe tbody tr th {\n",
       "        vertical-align: top;\n",
       "    }\n",
       "\n",
       "    .dataframe thead th {\n",
       "        text-align: right;\n",
       "    }\n",
       "</style>\n",
       "<table border=\"1\" class=\"dataframe\">\n",
       "  <thead>\n",
       "    <tr style=\"text-align: right;\">\n",
       "      <th></th>\n",
       "      <th>customer</th>\n",
       "      <th>cnt_0</th>\n",
       "      <th>cnt_1</th>\n",
       "    </tr>\n",
       "  </thead>\n",
       "  <tbody>\n",
       "    <tr>\n",
       "      <td>count</td>\n",
       "      <td>1749.000000</td>\n",
       "      <td>1162.000000</td>\n",
       "      <td>587.000000</td>\n",
       "    </tr>\n",
       "    <tr>\n",
       "      <td>mean</td>\n",
       "      <td>20969.564322</td>\n",
       "      <td>2.411360</td>\n",
       "      <td>2.289608</td>\n",
       "    </tr>\n",
       "    <tr>\n",
       "      <td>std</td>\n",
       "      <td>1749.210776</td>\n",
       "      <td>3.182826</td>\n",
       "      <td>2.520485</td>\n",
       "    </tr>\n",
       "    <tr>\n",
       "      <td>min</td>\n",
       "      <td>18025.000000</td>\n",
       "      <td>1.000000</td>\n",
       "      <td>1.000000</td>\n",
       "    </tr>\n",
       "    <tr>\n",
       "      <td>25%</td>\n",
       "      <td>19465.000000</td>\n",
       "      <td>1.000000</td>\n",
       "      <td>1.000000</td>\n",
       "    </tr>\n",
       "    <tr>\n",
       "      <td>50%</td>\n",
       "      <td>20960.000000</td>\n",
       "      <td>1.000000</td>\n",
       "      <td>1.000000</td>\n",
       "    </tr>\n",
       "    <tr>\n",
       "      <td>75%</td>\n",
       "      <td>22529.000000</td>\n",
       "      <td>3.000000</td>\n",
       "      <td>3.000000</td>\n",
       "    </tr>\n",
       "    <tr>\n",
       "      <td>max</td>\n",
       "      <td>23962.000000</td>\n",
       "      <td>46.000000</td>\n",
       "      <td>35.000000</td>\n",
       "    </tr>\n",
       "  </tbody>\n",
       "</table>\n",
       "</div>"
      ],
      "text/plain": [
       "           customer        cnt_0       cnt_1\n",
       "count   1749.000000  1162.000000  587.000000\n",
       "mean   20969.564322     2.411360    2.289608\n",
       "std     1749.210776     3.182826    2.520485\n",
       "min    18025.000000     1.000000    1.000000\n",
       "25%    19465.000000     1.000000    1.000000\n",
       "50%    20960.000000     1.000000    1.000000\n",
       "75%    22529.000000     3.000000    3.000000\n",
       "max    23962.000000    46.000000   35.000000"
      ]
     },
     "metadata": {},
     "output_type": "display_data"
    }
   ],
   "source": [
    "display(purchase_by_customer.describe())"
   ]
  },
  {
   "cell_type": "markdown",
   "metadata": {},
   "source": [
    "Как видим, средние значения изменились для группы без лояльности и остались теми же для второй группы: в среднем теперь 2,4 и 2,3 покупок на покупателя. \n",
    "\n",
    "Для нас важно то, что по таким результатам мы можем сделать предварительный вывод: количество покупок на покупателя не зависит от присутствия в системе лояльности. Эту теорию нам предстоит проверить статистически."
   ]
  },
  {
   "cell_type": "markdown",
   "metadata": {},
   "source": [
    "**Постройте диаграмму, отображающую соотношение количества покупок по различным магазинам.**<a id=\"step11\"></a>\n",
    "\n",
    "---\n",
    "Проведем такие же действия как и в предыдущих пунктах."
   ]
  },
  {
   "cell_type": "code",
   "execution_count": 30,
   "metadata": {},
   "outputs": [
    {
     "data": {
      "text/html": [
       "<div>\n",
       "<style scoped>\n",
       "    .dataframe tbody tr th:only-of-type {\n",
       "        vertical-align: middle;\n",
       "    }\n",
       "\n",
       "    .dataframe tbody tr th {\n",
       "        vertical-align: top;\n",
       "    }\n",
       "\n",
       "    .dataframe thead th {\n",
       "        text-align: right;\n",
       "    }\n",
       "</style>\n",
       "<table border=\"1\" class=\"dataframe\">\n",
       "  <thead>\n",
       "    <tr style=\"text-align: right;\">\n",
       "      <th></th>\n",
       "      <th>shop</th>\n",
       "      <th>cnt_0</th>\n",
       "      <th>cnt_1</th>\n",
       "    </tr>\n",
       "  </thead>\n",
       "  <tbody>\n",
       "    <tr>\n",
       "      <td>0</td>\n",
       "      <td>Shop 0</td>\n",
       "      <td>3134.0</td>\n",
       "      <td>1337.0</td>\n",
       "    </tr>\n",
       "    <tr>\n",
       "      <td>1</td>\n",
       "      <td>Shop 1</td>\n",
       "      <td>90.0</td>\n",
       "      <td>NaN</td>\n",
       "    </tr>\n",
       "    <tr>\n",
       "      <td>2</td>\n",
       "      <td>Shop 10</td>\n",
       "      <td>15.0</td>\n",
       "      <td>NaN</td>\n",
       "    </tr>\n",
       "    <tr>\n",
       "      <td>3</td>\n",
       "      <td>Shop 11</td>\n",
       "      <td>10.0</td>\n",
       "      <td>NaN</td>\n",
       "    </tr>\n",
       "    <tr>\n",
       "      <td>4</td>\n",
       "      <td>Shop 12</td>\n",
       "      <td>21.0</td>\n",
       "      <td>NaN</td>\n",
       "    </tr>\n",
       "    <tr>\n",
       "      <td>5</td>\n",
       "      <td>Shop 13</td>\n",
       "      <td>4.0</td>\n",
       "      <td>NaN</td>\n",
       "    </tr>\n",
       "    <tr>\n",
       "      <td>6</td>\n",
       "      <td>Shop 14</td>\n",
       "      <td>6.0</td>\n",
       "      <td>NaN</td>\n",
       "    </tr>\n",
       "    <tr>\n",
       "      <td>7</td>\n",
       "      <td>Shop 15</td>\n",
       "      <td>2.0</td>\n",
       "      <td>NaN</td>\n",
       "    </tr>\n",
       "    <tr>\n",
       "      <td>8</td>\n",
       "      <td>Shop 16</td>\n",
       "      <td>4.0</td>\n",
       "      <td>NaN</td>\n",
       "    </tr>\n",
       "    <tr>\n",
       "      <td>9</td>\n",
       "      <td>Shop 17</td>\n",
       "      <td>2.0</td>\n",
       "      <td>NaN</td>\n",
       "    </tr>\n",
       "    <tr>\n",
       "      <td>10</td>\n",
       "      <td>Shop 18</td>\n",
       "      <td>9.0</td>\n",
       "      <td>NaN</td>\n",
       "    </tr>\n",
       "    <tr>\n",
       "      <td>11</td>\n",
       "      <td>Shop 19</td>\n",
       "      <td>3.0</td>\n",
       "      <td>4.0</td>\n",
       "    </tr>\n",
       "    <tr>\n",
       "      <td>12</td>\n",
       "      <td>Shop 2</td>\n",
       "      <td>19.0</td>\n",
       "      <td>NaN</td>\n",
       "    </tr>\n",
       "    <tr>\n",
       "      <td>13</td>\n",
       "      <td>Shop 20</td>\n",
       "      <td>4.0</td>\n",
       "      <td>NaN</td>\n",
       "    </tr>\n",
       "    <tr>\n",
       "      <td>14</td>\n",
       "      <td>Shop 21</td>\n",
       "      <td>3.0</td>\n",
       "      <td>NaN</td>\n",
       "    </tr>\n",
       "    <tr>\n",
       "      <td>15</td>\n",
       "      <td>Shop 22</td>\n",
       "      <td>4.0</td>\n",
       "      <td>NaN</td>\n",
       "    </tr>\n",
       "    <tr>\n",
       "      <td>16</td>\n",
       "      <td>Shop 23</td>\n",
       "      <td>2.0</td>\n",
       "      <td>NaN</td>\n",
       "    </tr>\n",
       "    <tr>\n",
       "      <td>17</td>\n",
       "      <td>Shop 24</td>\n",
       "      <td>1.0</td>\n",
       "      <td>NaN</td>\n",
       "    </tr>\n",
       "    <tr>\n",
       "      <td>18</td>\n",
       "      <td>Shop 25</td>\n",
       "      <td>1.0</td>\n",
       "      <td>NaN</td>\n",
       "    </tr>\n",
       "    <tr>\n",
       "      <td>19</td>\n",
       "      <td>Shop 26</td>\n",
       "      <td>1.0</td>\n",
       "      <td>NaN</td>\n",
       "    </tr>\n",
       "    <tr>\n",
       "      <td>20</td>\n",
       "      <td>Shop 27</td>\n",
       "      <td>1.0</td>\n",
       "      <td>NaN</td>\n",
       "    </tr>\n",
       "    <tr>\n",
       "      <td>21</td>\n",
       "      <td>Shop 28</td>\n",
       "      <td>NaN</td>\n",
       "      <td>1.0</td>\n",
       "    </tr>\n",
       "    <tr>\n",
       "      <td>22</td>\n",
       "      <td>Shop 29</td>\n",
       "      <td>1.0</td>\n",
       "      <td>NaN</td>\n",
       "    </tr>\n",
       "    <tr>\n",
       "      <td>23</td>\n",
       "      <td>Shop 3</td>\n",
       "      <td>15.0</td>\n",
       "      <td>NaN</td>\n",
       "    </tr>\n",
       "    <tr>\n",
       "      <td>24</td>\n",
       "      <td>Shop 30</td>\n",
       "      <td>1.0</td>\n",
       "      <td>NaN</td>\n",
       "    </tr>\n",
       "    <tr>\n",
       "      <td>25</td>\n",
       "      <td>Shop 4</td>\n",
       "      <td>114.0</td>\n",
       "      <td>NaN</td>\n",
       "    </tr>\n",
       "    <tr>\n",
       "      <td>26</td>\n",
       "      <td>Shop 5</td>\n",
       "      <td>4.0</td>\n",
       "      <td>NaN</td>\n",
       "    </tr>\n",
       "    <tr>\n",
       "      <td>27</td>\n",
       "      <td>Shop 6</td>\n",
       "      <td>46.0</td>\n",
       "      <td>NaN</td>\n",
       "    </tr>\n",
       "    <tr>\n",
       "      <td>28</td>\n",
       "      <td>Shop 7</td>\n",
       "      <td>11.0</td>\n",
       "      <td>NaN</td>\n",
       "    </tr>\n",
       "    <tr>\n",
       "      <td>29</td>\n",
       "      <td>Shop 8</td>\n",
       "      <td>18.0</td>\n",
       "      <td>2.0</td>\n",
       "    </tr>\n",
       "    <tr>\n",
       "      <td>30</td>\n",
       "      <td>Shop 9</td>\n",
       "      <td>4.0</td>\n",
       "      <td>NaN</td>\n",
       "    </tr>\n",
       "  </tbody>\n",
       "</table>\n",
       "</div>"
      ],
      "text/plain": [
       "       shop   cnt_0   cnt_1\n",
       "0    Shop 0  3134.0  1337.0\n",
       "1    Shop 1    90.0     NaN\n",
       "2   Shop 10    15.0     NaN\n",
       "3   Shop 11    10.0     NaN\n",
       "4   Shop 12    21.0     NaN\n",
       "5   Shop 13     4.0     NaN\n",
       "6   Shop 14     6.0     NaN\n",
       "7   Shop 15     2.0     NaN\n",
       "8   Shop 16     4.0     NaN\n",
       "9   Shop 17     2.0     NaN\n",
       "10  Shop 18     9.0     NaN\n",
       "11  Shop 19     3.0     4.0\n",
       "12   Shop 2    19.0     NaN\n",
       "13  Shop 20     4.0     NaN\n",
       "14  Shop 21     3.0     NaN\n",
       "15  Shop 22     4.0     NaN\n",
       "16  Shop 23     2.0     NaN\n",
       "17  Shop 24     1.0     NaN\n",
       "18  Shop 25     1.0     NaN\n",
       "19  Shop 26     1.0     NaN\n",
       "20  Shop 27     1.0     NaN\n",
       "21  Shop 28     NaN     1.0\n",
       "22  Shop 29     1.0     NaN\n",
       "23   Shop 3    15.0     NaN\n",
       "24  Shop 30     1.0     NaN\n",
       "25   Shop 4   114.0     NaN\n",
       "26   Shop 5     4.0     NaN\n",
       "27   Shop 6    46.0     NaN\n",
       "28   Shop 7    11.0     NaN\n",
       "29   Shop 8    18.0     2.0\n",
       "30   Shop 9     4.0     NaN"
      ]
     },
     "metadata": {},
     "output_type": "display_data"
    }
   ],
   "source": [
    "purchase_by_shop = retail_merge.pivot_table(index='shop_id', columns = 'loyalty_program', values='purchase_id',aggfunc='nunique').reset_index()\n",
    "purchase_by_shop.columns = ['shop', 'cnt_0', 'cnt_1']\n",
    "display(purchase_by_shop)"
   ]
  },
  {
   "cell_type": "code",
   "execution_count": 31,
   "metadata": {},
   "outputs": [
    {
     "data": {
      "image/png": "[encoded data removed]",
      "text/plain": [
       "<Figure size 1296x432 with 1 Axes>"
      ]
     },
     "metadata": {},
     "output_type": "display_data"
    }
   ],
   "source": [
    "x = purchase_by_shop['shop']\n",
    "\n",
    "y1 = purchase_by_shop['cnt_0']\n",
    "y2 = purchase_by_shop['cnt_1']\n",
    "\n",
    "fig, ax = plt.subplots()\n",
    "\n",
    "ax.bar(x, y1, label='Покупки вне программы лояльности')\n",
    "ax.bar(x, y2, label='Покупки по программе лояльности')\n",
    "ax.set_facecolor('seashell')\n",
    "fig.set_facecolor('floralwhite')\n",
    "fig.set_figwidth(18)    #  ширина Figure\n",
    "fig.set_figheight(6)    #  высота Figure\n",
    "ax.grid()\n",
    "\n",
    "ax.set_title('Распределение числа покупок по магазинам')\n",
    "ax.set_xlabel('Магазин')\n",
    "ax.set_ylabel('Количество покупок')\n",
    "ax.set_xticklabels(x, rotation=90)\n",
    "ax.legend()\n",
    "plt.show();"
   ]
  },
  {
   "cell_type": "markdown",
   "metadata": {},
   "source": [
    "<div class=\"alert alert-block alert-info\">\n",
    "    \n",
    "Подавляющее большинство покупок приходятся на магазин \"shop_0\" - 3134 и 1337 чеков на нелояльных и лояльных соответственно - вероятно, это оптовый магазин.  \n",
    "    \n",
    "Построим график без учета магазина 0 и взглянем как обстоят дела у розницы.\n",
    "\n",
    "</div>"
   ]
  },
  {
   "cell_type": "code",
   "execution_count": 32,
   "metadata": {},
   "outputs": [
    {
     "data": {
      "image/png": "[encoded data removed]",
      "text/plain": [
       "<Figure size 1296x432 with 1 Axes>"
      ]
     },
     "metadata": {},
     "output_type": "display_data"
    }
   ],
   "source": [
    "purchase_by_shop_0 = purchase_by_shop.query('shop != \"Shop 0\"')\n",
    "\n",
    "x = purchase_by_shop_0['shop']\n",
    "y1 = purchase_by_shop_0['cnt_0']\n",
    "y2 = purchase_by_shop_0['cnt_1']\n",
    "\n",
    "fig, ax = plt.subplots()\n",
    "\n",
    "ax.bar(x, y1, label='Покупки вне программы лояльности')\n",
    "ax.bar(x, y2, label='Покупки по программе лояльности')\n",
    "ax.set_facecolor('seashell')\n",
    "fig.set_facecolor('floralwhite')\n",
    "fig.set_figwidth(18)    #  ширина Figure\n",
    "fig.set_figheight(6)    #  высота Figure\n",
    "ax.grid()\n",
    "\n",
    "ax.set_title('Распределение числа покупок по магазинам')\n",
    "ax.set_xlabel('Магазин')\n",
    "ax.set_ylabel('Количество покупок')\n",
    "ax.set_xticklabels(x, rotation=90)\n",
    "ax.legend()\n",
    "plt.show();"
   ]
  },
  {
   "cell_type": "markdown",
   "metadata": {},
   "source": [
    "\n",
    "<div class=\"alert alert-block alert-info\">\n",
    "    \n",
    "\n",
    "\n",
    "Не учитывая магизин 0:\n",
    "1. \"Лояльные\" покупатели совершают покупки только в 4 магазинах: 0, 8, 19 и 28. Почему? Продавцы не информируют о картах лояльности? Но тогда смысла от их введения точно не будет, если покупатель об этом даже не знает.\n",
    "2. Только у четырех магазинов набралось более 20 продаж: 1, 4, 6, 12. Это очень низкий показатель для трехмесячного периода. Встает резонный вопрос о целесообразности содержать столько магазинов. Стоит указать на это заказчику.\n",
    "    \n",
    "</div>"
   ]
  },
  {
   "cell_type": "markdown",
   "metadata": {},
   "source": [
    "**Сгруппировать таблицу по покупателям и программе лояльности. Добавить в таблицу столбец выручки и среднего чека.**<a id=\"step12\"></a>\n",
    "\n",
    "---\n",
    "Я собираюсь сравнить метрики среднего чека и выручки по покупателям, поэтому буду дальше пользоваться таблицей retail_real. Добавим в нее столбец выручки с товара, умножив цену на количество."
   ]
  },
  {
   "cell_type": "code",
   "execution_count": 33,
   "metadata": {},
   "outputs": [
    {
     "data": {
      "text/html": [
       "<div>\n",
       "<style scoped>\n",
       "    .dataframe tbody tr th:only-of-type {\n",
       "        vertical-align: middle;\n",
       "    }\n",
       "\n",
       "    .dataframe tbody tr th {\n",
       "        vertical-align: top;\n",
       "    }\n",
       "\n",
       "    .dataframe thead th {\n",
       "        text-align: right;\n",
       "    }\n",
       "</style>\n",
       "<table border=\"1\" class=\"dataframe\">\n",
       "  <thead>\n",
       "    <tr style=\"text-align: right;\">\n",
       "      <th></th>\n",
       "      <th>purchase_id</th>\n",
       "      <th>item_id</th>\n",
       "      <th>quantity</th>\n",
       "      <th>purchase_date</th>\n",
       "      <th>customer_id</th>\n",
       "      <th>shop_id</th>\n",
       "      <th>loyalty_program</th>\n",
       "      <th>price_per_one</th>\n",
       "      <th>date</th>\n",
       "      <th>revenue</th>\n",
       "    </tr>\n",
       "  </thead>\n",
       "  <tbody>\n",
       "    <tr>\n",
       "      <td>0</td>\n",
       "      <td>538280</td>\n",
       "      <td>21873</td>\n",
       "      <td>11</td>\n",
       "      <td>2016-12-10 12:50:00</td>\n",
       "      <td>18427</td>\n",
       "      <td>Shop 0</td>\n",
       "      <td>0</td>\n",
       "      <td>1.63</td>\n",
       "      <td>2016-12-10</td>\n",
       "      <td>17.93</td>\n",
       "    </tr>\n",
       "    <tr>\n",
       "      <td>1</td>\n",
       "      <td>541566</td>\n",
       "      <td>21873</td>\n",
       "      <td>35</td>\n",
       "      <td>2017-01-19 11:50:00</td>\n",
       "      <td>23401</td>\n",
       "      <td>Shop 0</td>\n",
       "      <td>1</td>\n",
       "      <td>1.63</td>\n",
       "      <td>2017-01-19</td>\n",
       "      <td>57.05</td>\n",
       "    </tr>\n",
       "    <tr>\n",
       "      <td>2</td>\n",
       "      <td>538843</td>\n",
       "      <td>21873</td>\n",
       "      <td>1</td>\n",
       "      <td>2016-12-14 13:18:00</td>\n",
       "      <td>21712</td>\n",
       "      <td>Shop 0</td>\n",
       "      <td>0</td>\n",
       "      <td>1.63</td>\n",
       "      <td>2016-12-14</td>\n",
       "      <td>1.63</td>\n",
       "    </tr>\n",
       "    <tr>\n",
       "      <td>3</td>\n",
       "      <td>540838</td>\n",
       "      <td>21873</td>\n",
       "      <td>11</td>\n",
       "      <td>2017-01-11 15:13:00</td>\n",
       "      <td>19541</td>\n",
       "      <td>Shop 0</td>\n",
       "      <td>0</td>\n",
       "      <td>1.63</td>\n",
       "      <td>2017-01-11</td>\n",
       "      <td>17.93</td>\n",
       "    </tr>\n",
       "    <tr>\n",
       "      <td>4</td>\n",
       "      <td>543592</td>\n",
       "      <td>21873</td>\n",
       "      <td>5</td>\n",
       "      <td>2017-02-10 11:57:00</td>\n",
       "      <td>22922</td>\n",
       "      <td>Shop 0</td>\n",
       "      <td>1</td>\n",
       "      <td>1.63</td>\n",
       "      <td>2017-02-10</td>\n",
       "      <td>8.15</td>\n",
       "    </tr>\n",
       "  </tbody>\n",
       "</table>\n",
       "</div>"
      ],
      "text/plain": [
       "  purchase_id item_id  quantity       purchase_date customer_id shop_id  \\\n",
       "0      538280   21873        11 2016-12-10 12:50:00       18427  Shop 0   \n",
       "1      541566   21873        35 2017-01-19 11:50:00       23401  Shop 0   \n",
       "2      538843   21873         1 2016-12-14 13:18:00       21712  Shop 0   \n",
       "3      540838   21873        11 2017-01-11 15:13:00       19541  Shop 0   \n",
       "4      543592   21873         5 2017-02-10 11:57:00       22922  Shop 0   \n",
       "\n",
       "   loyalty_program  price_per_one       date  revenue  \n",
       "0                0           1.63 2016-12-10    17.93  \n",
       "1                1           1.63 2017-01-19    57.05  \n",
       "2                0           1.63 2016-12-14     1.63  \n",
       "3                0           1.63 2017-01-11    17.93  \n",
       "4                1           1.63 2017-02-10     8.15  "
      ]
     },
     "metadata": {},
     "output_type": "display_data"
    }
   ],
   "source": [
    "retail_real['revenue'] = retail_real['quantity'] * retail_real['price_per_one']\n",
    "display(retail_real.head(5))"
   ]
  },
  {
   "cell_type": "markdown",
   "metadata": {},
   "source": [
    "Для дальнейшей работы нам требуется преобразовать нашу таблицу: сперва сгруппируем наших покупателей по присутствию в системе лояльности и ИД покупателя, сделав столбцами суммарную выручку и количество уникальных чеков. Затем переименуем столбцы для удобства и добавим столбец среднего чека: разделим выручку на количество чеков."
   ]
  },
  {
   "cell_type": "code",
   "execution_count": 34,
   "metadata": {},
   "outputs": [
    {
     "data": {
      "text/html": [
       "<div>\n",
       "<style scoped>\n",
       "    .dataframe tbody tr th:only-of-type {\n",
       "        vertical-align: middle;\n",
       "    }\n",
       "\n",
       "    .dataframe tbody tr th {\n",
       "        vertical-align: top;\n",
       "    }\n",
       "\n",
       "    .dataframe thead th {\n",
       "        text-align: right;\n",
       "    }\n",
       "</style>\n",
       "<table border=\"1\" class=\"dataframe\">\n",
       "  <thead>\n",
       "    <tr style=\"text-align: right;\">\n",
       "      <th></th>\n",
       "      <th>loyalty_program</th>\n",
       "      <th>customer_id</th>\n",
       "      <th>purchase_count</th>\n",
       "      <th>revenue_sum</th>\n",
       "      <th>avg_bill</th>\n",
       "    </tr>\n",
       "  </thead>\n",
       "  <tbody>\n",
       "    <tr>\n",
       "      <td>count</td>\n",
       "      <td>1749.000000</td>\n",
       "      <td>1749.000000</td>\n",
       "      <td>1749.000000</td>\n",
       "      <td>1749.000000</td>\n",
       "      <td>1749.000000</td>\n",
       "    </tr>\n",
       "    <tr>\n",
       "      <td>mean</td>\n",
       "      <td>0.335620</td>\n",
       "      <td>20969.564322</td>\n",
       "      <td>2.370497</td>\n",
       "      <td>1137.193007</td>\n",
       "      <td>432.618645</td>\n",
       "    </tr>\n",
       "    <tr>\n",
       "      <td>std</td>\n",
       "      <td>0.472342</td>\n",
       "      <td>1749.210776</td>\n",
       "      <td>2.976829</td>\n",
       "      <td>3935.424536</td>\n",
       "      <td>847.406267</td>\n",
       "    </tr>\n",
       "    <tr>\n",
       "      <td>min</td>\n",
       "      <td>0.000000</td>\n",
       "      <td>18025.000000</td>\n",
       "      <td>1.000000</td>\n",
       "      <td>-32922.105000</td>\n",
       "      <td>-10974.030000</td>\n",
       "    </tr>\n",
       "    <tr>\n",
       "      <td>25%</td>\n",
       "      <td>0.000000</td>\n",
       "      <td>19465.000000</td>\n",
       "      <td>1.000000</td>\n",
       "      <td>202.665000</td>\n",
       "      <td>137.790000</td>\n",
       "    </tr>\n",
       "    <tr>\n",
       "      <td>50%</td>\n",
       "      <td>0.000000</td>\n",
       "      <td>20960.000000</td>\n",
       "      <td>1.000000</td>\n",
       "      <td>439.465000</td>\n",
       "      <td>265.870000</td>\n",
       "    </tr>\n",
       "    <tr>\n",
       "      <td>75%</td>\n",
       "      <td>1.000000</td>\n",
       "      <td>22529.000000</td>\n",
       "      <td>3.000000</td>\n",
       "      <td>930.440000</td>\n",
       "      <td>501.120000</td>\n",
       "    </tr>\n",
       "    <tr>\n",
       "      <td>max</td>\n",
       "      <td>1.000000</td>\n",
       "      <td>23962.000000</td>\n",
       "      <td>46.000000</td>\n",
       "      <td>101301.125000</td>\n",
       "      <td>15824.540000</td>\n",
       "    </tr>\n",
       "  </tbody>\n",
       "</table>\n",
       "</div>"
      ],
      "text/plain": [
       "       loyalty_program   customer_id  purchase_count    revenue_sum  \\\n",
       "count      1749.000000   1749.000000     1749.000000    1749.000000   \n",
       "mean          0.335620  20969.564322        2.370497    1137.193007   \n",
       "std           0.472342   1749.210776        2.976829    3935.424536   \n",
       "min           0.000000  18025.000000        1.000000  -32922.105000   \n",
       "25%           0.000000  19465.000000        1.000000     202.665000   \n",
       "50%           0.000000  20960.000000        1.000000     439.465000   \n",
       "75%           1.000000  22529.000000        3.000000     930.440000   \n",
       "max           1.000000  23962.000000       46.000000  101301.125000   \n",
       "\n",
       "           avg_bill  \n",
       "count   1749.000000  \n",
       "mean     432.618645  \n",
       "std      847.406267  \n",
       "min   -10974.030000  \n",
       "25%      137.790000  \n",
       "50%      265.870000  \n",
       "75%      501.120000  \n",
       "max    15824.540000  "
      ]
     },
     "metadata": {},
     "output_type": "display_data"
    }
   ],
   "source": [
    "customer_retail = retail_real.groupby(['loyalty_program', 'customer_id']).agg({'purchase_id': ['nunique'], 'revenue':['sum']}).reset_index()\n",
    "customer_retail.columns = ['loyalty_program', 'customer_id', 'purchase_count', 'revenue_sum']\n",
    "customer_retail['avg_bill'] = round(customer_retail['revenue_sum'] / customer_retail['purchase_count'], 2)\n",
    "display(customer_retail.describe())"
   ]
  },
  {
   "cell_type": "markdown",
   "metadata": {},
   "source": [
    "**Построить точечный график среднего чека. Сделать выводы и предположения.** <a id=\"step13\"></a>\n",
    "\n",
    "---\n",
    "Если дорогой заказ попадёт в одну из групп теста, он сразу же исказит результаты и сделает победителем ту группу, где оказался. При этом такие покупки — редкость, исключение, которое проявилось не из-за тестирования гипотезы, а случайно. Такие аномально дорогие заказы следует удалять из теста. Но поскольку у нас в таблице стоит выручка не с одного заказа, а со всех для пользователя, то более разумно отсеять аномальные средние чеки."
   ]
  },
  {
   "cell_type": "code",
   "execution_count": 35,
   "metadata": {},
   "outputs": [
    {
     "data": {
      "text/html": [
       "<div>\n",
       "<style scoped>\n",
       "    .dataframe tbody tr th:only-of-type {\n",
       "        vertical-align: middle;\n",
       "    }\n",
       "\n",
       "    .dataframe tbody tr th {\n",
       "        vertical-align: top;\n",
       "    }\n",
       "\n",
       "    .dataframe thead th {\n",
       "        text-align: right;\n",
       "    }\n",
       "</style>\n",
       "<table border=\"1\" class=\"dataframe\">\n",
       "  <thead>\n",
       "    <tr style=\"text-align: right;\">\n",
       "      <th></th>\n",
       "      <th>loyalty_program</th>\n",
       "      <th>customer_id</th>\n",
       "      <th>purchase_count</th>\n",
       "      <th>revenue_sum</th>\n",
       "      <th>avg_bill</th>\n",
       "    </tr>\n",
       "  </thead>\n",
       "  <tbody>\n",
       "    <tr>\n",
       "      <td>1001</td>\n",
       "      <td>0</td>\n",
       "      <td>21428.0</td>\n",
       "      <td>2</td>\n",
       "      <td>31649.080</td>\n",
       "      <td>15824.54</td>\n",
       "    </tr>\n",
       "    <tr>\n",
       "      <td>24</td>\n",
       "      <td>0</td>\n",
       "      <td>18094.0</td>\n",
       "      <td>3</td>\n",
       "      <td>34452.210</td>\n",
       "      <td>11484.07</td>\n",
       "    </tr>\n",
       "    <tr>\n",
       "      <td>527</td>\n",
       "      <td>0</td>\n",
       "      <td>19767.0</td>\n",
       "      <td>1</td>\n",
       "      <td>10912.060</td>\n",
       "      <td>10912.06</td>\n",
       "    </tr>\n",
       "    <tr>\n",
       "      <td>1699</td>\n",
       "      <td>1</td>\n",
       "      <td>23781.0</td>\n",
       "      <td>6</td>\n",
       "      <td>55970.180</td>\n",
       "      <td>9328.36</td>\n",
       "    </tr>\n",
       "    <tr>\n",
       "      <td>701</td>\n",
       "      <td>0</td>\n",
       "      <td>20325.0</td>\n",
       "      <td>11</td>\n",
       "      <td>101301.125</td>\n",
       "      <td>9209.19</td>\n",
       "    </tr>\n",
       "    <tr>\n",
       "      <td>145</td>\n",
       "      <td>0</td>\n",
       "      <td>18434.0</td>\n",
       "      <td>1</td>\n",
       "      <td>6260.270</td>\n",
       "      <td>6260.27</td>\n",
       "    </tr>\n",
       "    <tr>\n",
       "      <td>582</td>\n",
       "      <td>0</td>\n",
       "      <td>19937.0</td>\n",
       "      <td>2</td>\n",
       "      <td>10527.070</td>\n",
       "      <td>5263.54</td>\n",
       "    </tr>\n",
       "    <tr>\n",
       "      <td>143</td>\n",
       "      <td>0</td>\n",
       "      <td>18432.0</td>\n",
       "      <td>3</td>\n",
       "      <td>15429.465</td>\n",
       "      <td>5143.16</td>\n",
       "    </tr>\n",
       "    <tr>\n",
       "      <td>36</td>\n",
       "      <td>0</td>\n",
       "      <td>18130.0</td>\n",
       "      <td>1</td>\n",
       "      <td>4873.195</td>\n",
       "      <td>4873.20</td>\n",
       "    </tr>\n",
       "    <tr>\n",
       "      <td>194</td>\n",
       "      <td>0</td>\n",
       "      <td>18618.0</td>\n",
       "      <td>2</td>\n",
       "      <td>8664.140</td>\n",
       "      <td>4332.07</td>\n",
       "    </tr>\n",
       "  </tbody>\n",
       "</table>\n",
       "</div>"
      ],
      "text/plain": [
       "      loyalty_program  customer_id  purchase_count  revenue_sum  avg_bill\n",
       "1001                0      21428.0               2    31649.080  15824.54\n",
       "24                  0      18094.0               3    34452.210  11484.07\n",
       "527                 0      19767.0               1    10912.060  10912.06\n",
       "1699                1      23781.0               6    55970.180   9328.36\n",
       "701                 0      20325.0              11   101301.125   9209.19\n",
       "145                 0      18434.0               1     6260.270   6260.27\n",
       "582                 0      19937.0               2    10527.070   5263.54\n",
       "143                 0      18432.0               3    15429.465   5143.16\n",
       "36                  0      18130.0               1     4873.195   4873.20\n",
       "194                 0      18618.0               2     8664.140   4332.07"
      ]
     },
     "metadata": {},
     "output_type": "display_data"
    }
   ],
   "source": [
    "display(customer_retail.sort_values(by='avg_bill',ascending=False).head(10))"
   ]
  },
  {
   "cell_type": "markdown",
   "metadata": {},
   "source": [
    "<div class=\"alert alert-block alert-info\">\n",
    "    \n",
    "Отсортировав таблицу по убыванию выручки мы сразу можем обратить внимание на то, что каких-то сверхвыбивающихся средних чеков не видно. Есть 3 больших чека (дороже 10 тысяч), но на глаз определить аномальные они или нет трудно.\n",
    "    \n",
    "</div>\n"
   ]
  },
  {
   "cell_type": "code",
   "execution_count": 36,
   "metadata": {},
   "outputs": [
    {
     "data": {
      "text/plain": [
       "<matplotlib.collections.PathCollection at 0x7fa5f27d5b10>"
      ]
     },
     "execution_count": 36,
     "metadata": {},
     "output_type": "execute_result"
    },
    {
     "data": {
      "image/png": "[encoded data removed]",
      "text/plain": [
       "<Figure size 1296x432 with 1 Axes>"
      ]
     },
     "metadata": {
      "needs_background": "light"
     },
     "output_type": "display_data"
    }
   ],
   "source": [
    "xx_values = pd.Series(range(0,len(customer_retail['avg_bill'])))\n",
    "\n",
    "fig, ax = plt.subplots()\n",
    "fig.set_figwidth(18)\n",
    "fig.set_figheight(6)\n",
    "ax.set_title('График среднего чека по пользователям')\n",
    "ax.set_xlabel('пользователь')\n",
    "ax.set_ylabel('средний чек')\n",
    "ax.grid()\n",
    "\n",
    "\n",
    "plt.scatter(xx_values, customer_retail['avg_bill'])"
   ]
  },
  {
   "cell_type": "markdown",
   "metadata": {},
   "source": [
    "График, что вполне естественно, подтверждает данные в таблице. Сложно сказать где проходит граница аномальных заказов по графику - для этого посчитаем перцентили."
   ]
  },
  {
   "cell_type": "markdown",
   "metadata": {},
   "source": [
    "\n",
    "<div class=\"alert alert-block alert-info\">\n",
    "    \n",
    "Мы получили интересный момент - у нас есть отрицательные средние чеки и получились они от возвратов. Поскольку если покупка и возврат пришлись бы на рассматриваемый период, то в сумме у нас получился бы 0, а раз значение отрицательное - в таблице есть возвраты за покупки, совершенные до исследуемого периода. Установим нижнюю границу за 0, чтобы эти возвраты не исказили нам картину.\n",
    "    \n",
    "</div>"
   ]
  },
  {
   "cell_type": "markdown",
   "metadata": {},
   "source": [
    "**Посчитать 95-й и 99-й перцентили стоимости заказов. Выбрать границу для определения аномальных заказов.** <a id=\"step14\"></a>"
   ]
  },
  {
   "cell_type": "code",
   "execution_count": 37,
   "metadata": {},
   "outputs": [
    {
     "data": {
      "text/plain": [
       "array([1229.848 , 3388.2616])"
      ]
     },
     "metadata": {},
     "output_type": "display_data"
    }
   ],
   "source": [
    "display(np.percentile(customer_retail['avg_bill'], [95, 99]))"
   ]
  },
  {
   "cell_type": "markdown",
   "metadata": {},
   "source": [
    "<div class=\"alert alert-block alert-info\">\n",
    "    \n",
    "Не более 5% заказов имеют средний чек 1330. И только 1% покупок имеют средний чек 3388. Принято отсеивать от 1% до 5% наблюдений с крайними значениями. Возьмем средний чек в 3400 за границу стоимости заказа и отсеивать аномальные покупки будем по ней.\n",
    "    \n",
    "</div>\n"
   ]
  },
  {
   "cell_type": "markdown",
   "metadata": {},
   "source": [
    "**Построить точечный график количества заказов по пользователям. Сделать выводы и предположения.** <a id=\"step15\"></a>\n",
    "\n",
    "---\n",
    "Проведем действия,  аналогичные построению графику выручки."
   ]
  },
  {
   "cell_type": "code",
   "execution_count": 38,
   "metadata": {},
   "outputs": [
    {
     "data": {
      "text/html": [
       "<div>\n",
       "<style scoped>\n",
       "    .dataframe tbody tr th:only-of-type {\n",
       "        vertical-align: middle;\n",
       "    }\n",
       "\n",
       "    .dataframe tbody tr th {\n",
       "        vertical-align: top;\n",
       "    }\n",
       "\n",
       "    .dataframe thead th {\n",
       "        text-align: right;\n",
       "    }\n",
       "</style>\n",
       "<table border=\"1\" class=\"dataframe\">\n",
       "  <thead>\n",
       "    <tr style=\"text-align: right;\">\n",
       "      <th></th>\n",
       "      <th>loyalty_program</th>\n",
       "      <th>customer_id</th>\n",
       "      <th>purchase_count</th>\n",
       "      <th>revenue_sum</th>\n",
       "      <th>avg_bill</th>\n",
       "    </tr>\n",
       "  </thead>\n",
       "  <tbody>\n",
       "    <tr>\n",
       "      <td>142</td>\n",
       "      <td>0</td>\n",
       "      <td>18427.0</td>\n",
       "      <td>46</td>\n",
       "      <td>4943.925</td>\n",
       "      <td>107.48</td>\n",
       "    </tr>\n",
       "    <tr>\n",
       "      <td>689</td>\n",
       "      <td>0</td>\n",
       "      <td>20285.0</td>\n",
       "      <td>38</td>\n",
       "      <td>2416.170</td>\n",
       "      <td>63.58</td>\n",
       "    </tr>\n",
       "    <tr>\n",
       "      <td>1618</td>\n",
       "      <td>1</td>\n",
       "      <td>23529.0</td>\n",
       "      <td>35</td>\n",
       "      <td>6996.830</td>\n",
       "      <td>199.91</td>\n",
       "    </tr>\n",
       "    <tr>\n",
       "      <td>884</td>\n",
       "      <td>0</td>\n",
       "      <td>20990.0</td>\n",
       "      <td>33</td>\n",
       "      <td>18321.425</td>\n",
       "      <td>555.19</td>\n",
       "    </tr>\n",
       "    <tr>\n",
       "      <td>1614</td>\n",
       "      <td>1</td>\n",
       "      <td>23520.0</td>\n",
       "      <td>30</td>\n",
       "      <td>4195.115</td>\n",
       "      <td>139.84</td>\n",
       "    </tr>\n",
       "    <tr>\n",
       "      <td>243</td>\n",
       "      <td>0</td>\n",
       "      <td>18768.0</td>\n",
       "      <td>29</td>\n",
       "      <td>21548.690</td>\n",
       "      <td>743.06</td>\n",
       "    </tr>\n",
       "    <tr>\n",
       "      <td>779</td>\n",
       "      <td>0</td>\n",
       "      <td>20590.0</td>\n",
       "      <td>28</td>\n",
       "      <td>16585.720</td>\n",
       "      <td>592.35</td>\n",
       "    </tr>\n",
       "    <tr>\n",
       "      <td>813</td>\n",
       "      <td>0</td>\n",
       "      <td>20740.0</td>\n",
       "      <td>21</td>\n",
       "      <td>33967.175</td>\n",
       "      <td>1617.48</td>\n",
       "    </tr>\n",
       "    <tr>\n",
       "      <td>664</td>\n",
       "      <td>0</td>\n",
       "      <td>20206.0</td>\n",
       "      <td>20</td>\n",
       "      <td>428.450</td>\n",
       "      <td>21.42</td>\n",
       "    </tr>\n",
       "    <tr>\n",
       "      <td>206</td>\n",
       "      <td>0</td>\n",
       "      <td>18650.0</td>\n",
       "      <td>19</td>\n",
       "      <td>4671.620</td>\n",
       "      <td>245.87</td>\n",
       "    </tr>\n",
       "  </tbody>\n",
       "</table>\n",
       "</div>"
      ],
      "text/plain": [
       "      loyalty_program  customer_id  purchase_count  revenue_sum  avg_bill\n",
       "142                 0      18427.0              46     4943.925    107.48\n",
       "689                 0      20285.0              38     2416.170     63.58\n",
       "1618                1      23529.0              35     6996.830    199.91\n",
       "884                 0      20990.0              33    18321.425    555.19\n",
       "1614                1      23520.0              30     4195.115    139.84\n",
       "243                 0      18768.0              29    21548.690    743.06\n",
       "779                 0      20590.0              28    16585.720    592.35\n",
       "813                 0      20740.0              21    33967.175   1617.48\n",
       "664                 0      20206.0              20      428.450     21.42\n",
       "206                 0      18650.0              19     4671.620    245.87"
      ]
     },
     "metadata": {},
     "output_type": "display_data"
    }
   ],
   "source": [
    "display(customer_retail.sort_values(by='purchase_count',ascending=False).head(10))"
   ]
  },
  {
   "cell_type": "code",
   "execution_count": 39,
   "metadata": {},
   "outputs": [
    {
     "data": {
      "text/plain": [
       "<matplotlib.collections.PathCollection at 0x7fa5f26391d0>"
      ]
     },
     "execution_count": 39,
     "metadata": {},
     "output_type": "execute_result"
    },
    {
     "data": {
      "image/png": "[encoded data removed]",
      "text/plain": [
       "<Figure size 1296x432 with 1 Axes>"
      ]
     },
     "metadata": {
      "needs_background": "light"
     },
     "output_type": "display_data"
    }
   ],
   "source": [
    "xx_values = pd.Series(range(0,len(customer_retail['purchase_count'])))\n",
    "\n",
    "fig, ax = plt.subplots()\n",
    "fig.set_figwidth(18)\n",
    "fig.set_figheight(6)\n",
    "ax.set_title('График количества заказов по пользователям')\n",
    "ax.set_xlabel('пользователь')\n",
    "ax.set_ylabel('количество заказов')\n",
    "ax.grid()\n",
    "\n",
    "\n",
    "plt.scatter(xx_values, customer_retail['purchase_count'])"
   ]
  },
  {
   "cell_type": "markdown",
   "metadata": {},
   "source": [
    "Как видим, большинство пользователей совершает меньше 10 заказов, но также есть и те кто делает 20, 30 и даже 40 заказов. Для того, чтобы ответить на вопрос какое количество считать аномальным посчитаем выборочные процентили."
   ]
  },
  {
   "cell_type": "markdown",
   "metadata": {},
   "source": [
    "**Посчитать 95-й и 99-й перцентили количества заказов на пользователя. Выбрать границу для определения аномальных пользователей.** <a id=\"step16\"></a>"
   ]
  },
  {
   "cell_type": "code",
   "execution_count": 40,
   "metadata": {},
   "outputs": [
    {
     "data": {
      "text/plain": [
       "array([ 7.  , 13.52])"
      ]
     },
     "metadata": {},
     "output_type": "display_data"
    }
   ],
   "source": [
    "display(np.percentile(customer_retail['purchase_count'], [95, 99]))"
   ]
  },
  {
   "cell_type": "markdown",
   "metadata": {},
   "source": [
    "Не более 5% пользователей оформляли больше чем 7 заказов. И 1% пользователей заказывал более 13 раз. Выберем 13 заказов на одного пользователя за границу числа заказов, и отсеем аномальных пользователей по ней (при определениии границы также взглянули на график количества заказов из предыдущего пункта)."
   ]
  },
  {
   "cell_type": "markdown",
   "metadata": {},
   "source": [
    "**Убрать аномальные значения из выборки** <a id=\"step17\"></a>\n",
    "\n",
    "---\n",
    "В прошлых пунктах мы определили границы \"нормальности\". Уберем всех у кого больше 13 заказов и средний чек больше 3500. "
   ]
  },
  {
   "cell_type": "code",
   "execution_count": 41,
   "metadata": {},
   "outputs": [
    {
     "data": {
      "text/html": [
       "<div>\n",
       "<style scoped>\n",
       "    .dataframe tbody tr th:only-of-type {\n",
       "        vertical-align: middle;\n",
       "    }\n",
       "\n",
       "    .dataframe tbody tr th {\n",
       "        vertical-align: top;\n",
       "    }\n",
       "\n",
       "    .dataframe thead th {\n",
       "        text-align: right;\n",
       "    }\n",
       "</style>\n",
       "<table border=\"1\" class=\"dataframe\">\n",
       "  <thead>\n",
       "    <tr style=\"text-align: right;\">\n",
       "      <th></th>\n",
       "      <th>loyalty_program</th>\n",
       "      <th>customer_id</th>\n",
       "      <th>purchase_count</th>\n",
       "      <th>revenue_sum</th>\n",
       "      <th>avg_bill</th>\n",
       "    </tr>\n",
       "  </thead>\n",
       "  <tbody>\n",
       "    <tr>\n",
       "      <td>0</td>\n",
       "      <td>0</td>\n",
       "      <td>18026.0</td>\n",
       "      <td>2</td>\n",
       "      <td>1736.520</td>\n",
       "      <td>868.26</td>\n",
       "    </tr>\n",
       "    <tr>\n",
       "      <td>1</td>\n",
       "      <td>0</td>\n",
       "      <td>18027.0</td>\n",
       "      <td>2</td>\n",
       "      <td>2004.205</td>\n",
       "      <td>1002.10</td>\n",
       "    </tr>\n",
       "    <tr>\n",
       "      <td>2</td>\n",
       "      <td>0</td>\n",
       "      <td>18029.0</td>\n",
       "      <td>1</td>\n",
       "      <td>386.180</td>\n",
       "      <td>386.18</td>\n",
       "    </tr>\n",
       "    <tr>\n",
       "      <td>3</td>\n",
       "      <td>0</td>\n",
       "      <td>18031.0</td>\n",
       "      <td>1</td>\n",
       "      <td>390.170</td>\n",
       "      <td>390.17</td>\n",
       "    </tr>\n",
       "    <tr>\n",
       "      <td>4</td>\n",
       "      <td>0</td>\n",
       "      <td>18038.0</td>\n",
       "      <td>2</td>\n",
       "      <td>1917.175</td>\n",
       "      <td>958.59</td>\n",
       "    </tr>\n",
       "    <tr>\n",
       "      <td>...</td>\n",
       "      <td>...</td>\n",
       "      <td>...</td>\n",
       "      <td>...</td>\n",
       "      <td>...</td>\n",
       "      <td>...</td>\n",
       "    </tr>\n",
       "    <tr>\n",
       "      <td>1630</td>\n",
       "      <td>1</td>\n",
       "      <td>23936.0</td>\n",
       "      <td>3</td>\n",
       "      <td>426.820</td>\n",
       "      <td>142.27</td>\n",
       "    </tr>\n",
       "    <tr>\n",
       "      <td>1631</td>\n",
       "      <td>1</td>\n",
       "      <td>23938.0</td>\n",
       "      <td>1</td>\n",
       "      <td>454.980</td>\n",
       "      <td>454.98</td>\n",
       "    </tr>\n",
       "    <tr>\n",
       "      <td>1632</td>\n",
       "      <td>1</td>\n",
       "      <td>23939.0</td>\n",
       "      <td>3</td>\n",
       "      <td>904.610</td>\n",
       "      <td>301.54</td>\n",
       "    </tr>\n",
       "    <tr>\n",
       "      <td>1633</td>\n",
       "      <td>1</td>\n",
       "      <td>23948.0</td>\n",
       "      <td>2</td>\n",
       "      <td>148.645</td>\n",
       "      <td>74.32</td>\n",
       "    </tr>\n",
       "    <tr>\n",
       "      <td>1634</td>\n",
       "      <td>1</td>\n",
       "      <td>23962.0</td>\n",
       "      <td>3</td>\n",
       "      <td>104.930</td>\n",
       "      <td>34.98</td>\n",
       "    </tr>\n",
       "  </tbody>\n",
       "</table>\n",
       "<p>1635 rows × 5 columns</p>\n",
       "</div>"
      ],
      "text/plain": [
       "      loyalty_program  customer_id  purchase_count  revenue_sum  avg_bill\n",
       "0                   0      18026.0               2     1736.520    868.26\n",
       "1                   0      18027.0               2     2004.205   1002.10\n",
       "2                   0      18029.0               1      386.180    386.18\n",
       "3                   0      18031.0               1      390.170    390.17\n",
       "4                   0      18038.0               2     1917.175    958.59\n",
       "...               ...          ...             ...          ...       ...\n",
       "1630                1      23936.0               3      426.820    142.27\n",
       "1631                1      23938.0               1      454.980    454.98\n",
       "1632                1      23939.0               3      904.610    301.54\n",
       "1633                1      23948.0               2      148.645     74.32\n",
       "1634                1      23962.0               3      104.930     34.98\n",
       "\n",
       "[1635 rows x 5 columns]"
      ]
     },
     "metadata": {},
     "output_type": "display_data"
    }
   ],
   "source": [
    "filtered_retail = customer_retail.query('purchase_count < 14 and 0 <= avg_bill < 3501').reset_index(drop=True)\n",
    "display(filtered_retail)"
   ]
  },
  {
   "cell_type": "markdown",
   "metadata": {},
   "source": [
    "<div class=\"alert alert-block alert-info\">\n",
    "    \n",
    "У нас было 1749 пользователей, а стало 1635, то есть мы потеряли 114 аномальных значений или 6,5% - не самая критичная цифра, которая обеспечит большую точность исследованию. Самое время сформулировать и проверить гипотезы.\n",
    "    \n",
    "</div>\n"
   ]
  },
  {
   "cell_type": "markdown",
   "metadata": {},
   "source": [
    "### Шаг №4. Сформулировать и проверить гипотезы<a id=\"step18\"></a>\n",
    "\n",
    "---\n",
    "**Формулировка гипотез**<a id=\"step19\"></a>\n",
    "\n",
    "---\n",
    "Начнём с формулировки нулевой гипотезы H₀ (от англ. hypothesis — гипотеза; от др.-греч. ὑπόθεσις — предположение). Например, «среднее рассматриваемой генеральной совокупности равно A», где А — некоторое число. Исходя из H₀ формулируется альтернативная гипотеза H₁. Для этой H₀ она звучит как «среднее генеральной совокупности не равно A». H₀ всегда формулируется так, чтобы использовать знак равенства. Другими словами, чтобы все значения, полученные эмпирически, не были экстремальными, а лежали там, где ожидаем их найти. Например, если мы исследуем, не увеличилась ли величина, то нулевая гипотеза будет звучать: «нет, не увеличилась». Если выясняем, есть ли разница между совокупностями, то нулевая гипотеза будет такая: «нет, разницы нет, то есть исследуемые параметры равны».\n",
    "\n",
    "Значит нулевая гипотеза будут звучать так - средний чек группы 0 не отличается от среднего чека группы 1.\n",
    "\n",
    "А альтернативная гипотеза - средние чеки групп 0 и 1 отличны друг от друга.\n",
    "\n",
    "В прошлых пунктах мы:\n",
    "\n",
    " - Оценили данные визуально и выяснили, что в данных, скорее всего, есть выбросы;\n",
    " - Увидели выбросы и нашли границу для их определения.\n",
    "\n",
    "Настало время посчитать статистическую значимость различий в среднем чеке между группами. Начнем с подготовки данных."
   ]
  },
  {
   "cell_type": "markdown",
   "metadata": {},
   "source": [
    "**Проверить гипотезу: средний чек участников программы лояльности отличается от среднего чека остальных клиентов** <a id=\"step20\"></a>\n",
    "\n",
    "---\n",
    "Разделим нашу выборку по принадлежности к программе лояльности: sampleA - не принадлежат, sampleВ - принадлежат. Затем посмотрим на размеры таблиц."
   ]
  },
  {
   "cell_type": "code",
   "execution_count": 42,
   "metadata": {},
   "outputs": [
    {
     "data": {
      "text/plain": [
       "(1078, 5)"
      ]
     },
     "metadata": {},
     "output_type": "display_data"
    },
    {
     "data": {
      "text/plain": [
       "(557, 5)"
      ]
     },
     "metadata": {},
     "output_type": "display_data"
    }
   ],
   "source": [
    "sampleA = filtered_retail.query('loyalty_program == \"0\"').reset_index(drop=True)\n",
    "sampleB = filtered_retail.query('loyalty_program == \"1\"').reset_index(drop=True)\n",
    "display(sampleA.shape, sampleB.shape)"
   ]
  },
  {
   "cell_type": "markdown",
   "metadata": {},
   "source": [
    "Размеры выборок не совпадают, от выбросов мы избавились, значит решение сравнивать по среднему правильное.\n",
    "\n",
    "Чтобы проверить гипотезу о равенстве среднего двух генеральных совокупностей по взятым из них выборкам, применим метод\n",
    "\n",
    "scipy.stats.ttest_ind (array1, array2, equal_var) \n",
    "\n",
    "\n",
    "Методу передают параметры:\n",
    "array1, array2 — массивы, содержащие выборки;\n",
    "equal_var (от англ. equal variance, «равная дисперсия») — необязательный параметр, задающий считать ли равными дисперсии выборок. Передаётся как \"equal_var = True\" или \"equal_var = False\" (True — считать, False — не считать)."
   ]
  },
  {
   "cell_type": "code",
   "execution_count": 43,
   "metadata": {},
   "outputs": [
    {
     "name": "stdout",
     "output_type": "stream",
     "text": [
      "p-значение: 0.05807900283433022\n",
      "Не получилось отвергнуть нулевую гипотезу\n"
     ]
    }
   ],
   "source": [
    "alpha = .05 # критический уровень статистической значимости, если p-value окажется меньше него - отвергнем гипотезу\n",
    "\n",
    "results = st.ttest_ind(sampleA['avg_bill'], sampleB['avg_bill'])\n",
    "\n",
    "print('p-значение:', results.pvalue)\n",
    "\n",
    "if (results.pvalue < alpha):\n",
    "    print(\"Отвергаем нулевую гипотезу\")\n",
    "else:\n",
    "    print(\"Не получилось отвергнуть нулевую гипотезу\")"
   ]
  },
  {
   "cell_type": "markdown",
   "metadata": {},
   "source": [
    "p-value получился больше критического уровеня статистической значимости, причин отвергать нулевую гипотезу нет. Значит говорить о том, что средние чеки различны не приходится. Участие в программе лояльности не влияет на средний чек покупателя."
   ]
  },
  {
   "cell_type": "markdown",
   "metadata": {},
   "source": [
    "**Проверить гипотезу: выручка от участников программы лояльности отличается от выручки остальных клиентов** <a id=\"step21\"></a>\n",
    "\n",
    "---\n",
    "Нулевая гипотеза будут звучать так - выручка от участников программы лояльности не отличается от выручки остальных клиентов.\n",
    "\n",
    "А альтернативная гипотеза - выручка от участников программы лояльности отличается от выручки остальных клиентов."
   ]
  },
  {
   "cell_type": "markdown",
   "metadata": {},
   "source": [
    "<div class=\"alert alert-block alert-info\">\n",
    "    \n",
    "Здесь нужно учесть следующий момент: карта лояльности стоит 200 рублей, то есть к выручке от каждого \"лояльного\" пользователя мы должны добавить 200 р. Добавим соответствующий столбец и проверим нашу гипотезу.\n",
    "    \n",
    "</div>"
   ]
  },
  {
   "cell_type": "code",
   "execution_count": 44,
   "metadata": {},
   "outputs": [],
   "source": [
    "sampleB['revenue_sum_200'] = sampleB['revenue_sum'] + 200"
   ]
  },
  {
   "cell_type": "code",
   "execution_count": 45,
   "metadata": {},
   "outputs": [
    {
     "name": "stdout",
     "output_type": "stream",
     "text": [
      "p-значение: 0.06170922839383591\n",
      "Не получилось отвергнуть нулевую гипотезу\n"
     ]
    }
   ],
   "source": [
    "alpha = .05 # критический уровень статистической значимости, если p-value окажется меньше него - отвергнем гипотезу\n",
    "\n",
    "results = st.ttest_ind(sampleA['revenue_sum'], sampleB['revenue_sum_200'])\n",
    "\n",
    "print('p-значение:', results.pvalue)\n",
    "\n",
    "if (results.pvalue < alpha):\n",
    "    print(\"Отвергаем нулевую гипотезу\")\n",
    "else:\n",
    "    print(\"Не получилось отвергнуть нулевую гипотезу\")"
   ]
  },
  {
   "cell_type": "markdown",
   "metadata": {},
   "source": [
    "p-value получился больше критического уровеня статистической значимости, причин отвергать нулевую гипотезу нет. Значит говорить о том, что выручки различны не приходится. Участие в программе лояльности не влияет на выручку от покупателя."
   ]
  },
  {
   "cell_type": "markdown",
   "metadata": {},
   "source": [
    "**Проверить гипотезу: количество покупок участников программы лояльности отличается от количества покупок остальных клиентов** <a id=\"step22\"></a>\n",
    "\n",
    "---\n",
    "Нулевая гипотеза будут звучать так - количество покупок участников программы лояльности не отличается от количества покупок остальных клиентов.\n",
    "\n",
    "А альтернативная гипотеза - количество покупок участников программы лояльности отличается от количества покупок остальных клиентов."
   ]
  },
  {
   "cell_type": "code",
   "execution_count": 46,
   "metadata": {},
   "outputs": [
    {
     "name": "stdout",
     "output_type": "stream",
     "text": [
      "p-значение: 0.8111883610792971\n",
      "Не получилось отвергнуть нулевую гипотезу\n"
     ]
    }
   ],
   "source": [
    "alpha = .05 # критический уровень статистической значимости, если p-value окажется меньше него - отвергнем гипотезу\n",
    "\n",
    "results = st.ttest_ind(sampleA['purchase_count'], sampleB['purchase_count'])\n",
    "\n",
    "print('p-значение:', results.pvalue)\n",
    "\n",
    "if (results.pvalue < alpha):\n",
    "    print(\"Отвергаем нулевую гипотезу\")\n",
    "else:\n",
    "    print(\"Не получилось отвергнуть нулевую гипотезу\")"
   ]
  },
  {
   "cell_type": "markdown",
   "metadata": {},
   "source": [
    "p-value получился больше критического уровеня статистической значимости, причин отвергать нулевую гипотезу нет. Значит говорить о том, что количество покупок различно не приходится. Участие в программе лояльности не влияет на количество покупок покупателя."
   ]
  },
  {
   "cell_type": "markdown",
   "metadata": {},
   "source": [
    "После проверки гипотез сделаем **вывод: различия в среднем чеке, количестве покупок и выручке не получили статистической значимости, что говорит нам о том, чтонет оснований что они отличны у тех кто участвует в системе лояльности итех кто нет.**"
   ]
  },
  {
   "cell_type": "markdown",
   "metadata": {},
   "source": [
    "### Шаг №5. Сформулировать выводы и сделайте базовые рекомендации по использованию программы лояльности<a id=\"step23\"></a>\n",
    "\n",
    "---\n",
    "Подведем итоги нашего исследования:\n",
    "1. Предобработка данных. Мы получили довольно \"сырые данные\" и сделали с ними следующие преобразования:\n",
    " - названия столбцов приведены к нижнему регистру и переименованы на более удобные.\n",
    " - данные приведены к нужным типам\n",
    " - пропуски обработаны и при этом мы не потеряли около 35 тысяч записей как если бы просто удалили их.\n",
    " - дубликаты удалены, как полные строки - в таблице retail, так и одинаковые ИД товара - в таблице продуктовых кодов. Параллельно с этим создан датафрейм с уникальными парами код-цена, где цену мы взяли как медиану по ценам каждого уникального товара. Таблицы после всех обработок мы объединили, получив общий датафрейм со всеми интересующими нас данными.\n",
    "2. Исследовательский анализ данных (EDA). В результате анализа мы получили следующую информацию:\n",
    " - представлены данные с 2016-12-01 по 2017-02-28\n",
    " - до середины декабря покупок было значительно больше, чем в январе и феврале\n",
    " - отсутствуют данные с 24 декабря по 3 января и также данные для 1 дня в неделю: 4.12, 11.12, 18.12 и так далее\n",
    " - количество покупок вне программы лояльности больше, чем число покупок по программе\n",
    " - количество покупок по пользователя в среднем равны для тех кто в системе лояльности и тех кто нет\n",
    " - подавляющее большинство покупок приходятся на магазин \"shop_0\" - 3134 и 1337 чеков на нелояльных и лояльных соответственно - скорее всего он единственный занимается оптом\n",
    " - \"лояльные\" покупатели совершают покупки только в 4 магазинах: 0, 8, 19 и 28\n",
    " - только у четырех магазинов набралось более 20 продаж: 1, 4, 6, 12 (не считая 0). Это очень низкий показатель для трехмесячного периода. Встает резонный вопрос о целесообразности содержать столько магазинов\n",
    " - мы отбросили порядка 6,5% аномальных по количеству и среднему чеку заказов\n",
    "3. Сформулировали три гипотезы и проверили их:\n",
    " - средний чек участников программы лояльности отличается от среднего чека остальных клиентов\n",
    " - выручка от участников программы лояльности отличается от выручки остальных клиентов\n",
    " - количество покупок участников программы лояльности отличается от количества покупок остальных клиентов.\n",
    " \n",
    " Ни одна из них не получила статистической значимости и мы пришли к выводу что разницы в выбранных метриках между \"лояльными\" и \"нелояльными\" покупателями нет различий.\n",
    " \n",
    "\n",
    "Несмотря на полученный результат, я считаю, что качество данных не позволило получить полностью адекватную оценку ситуации. Я бы реккомендовал разобраться почему не хватает такого количества данных по дням - может все таки данные \"теряются\" и мы делали оценку необъективно. Уделить внимание распределению заказов по магазинам: почему \"лояльные\" клиенты встречаются только в 4 магазинах (причем в 3 из них всего пара заказов) и почему только в 4 магазинах заказов больше 20. Также реккомендую провести полноценный А/В тест.\n",
    "\n",
    "Если все-таки выгрузка верна, то я не вижу разницы между клиентами с лояльностью и без и поэтому не вижу смысла вкладывать в нее время и средства - лучше поискать другие способы повысить средний чек, выручку, количество покупок."
   ]
  },
  {
   "cell_type": "code",
   "execution_count": null,
   "metadata": {},
   "outputs": [],
   "source": []
  }
 ],
 "metadata": {
  "kernelspec": {
   "display_name": "Python 3",
   "language": "python",
   "name": "python3"
  },
  "language_info": {
   "codemirror_mode": {
    "name": "ipython",
    "version": 3
   },
   "file_extension": ".py",
   "mimetype": "text/x-python",
   "name": "python",
   "nbconvert_exporter": "python",
   "pygments_lexer": "ipython3",
   "version": "3.7.6"
  }
 },
 "nbformat": 4,
 "nbformat_minor": 2
}
